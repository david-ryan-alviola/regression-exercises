{
 "cells": [
  {
   "cell_type": "code",
   "execution_count": 1,
   "id": "subjective-initial",
   "metadata": {},
   "outputs": [],
   "source": [
    "import pandas as pd\n",
    "import numpy as np\n",
    "import env\n",
    "import matplotlib.pyplot as plt\n",
    "import seaborn as sns\n",
    "\n",
    "from pydataset import data\n",
    "from utilities import split_dataframe, generate_xy_splits, nan_null_empty_check\n",
    "from prepare import generate_scaled_splits\n",
    "from sklearn.metrics import mean_squared_error\n",
    "from sklearn.linear_model import LinearRegression, LassoLars, TweedieRegressor\n",
    "from sklearn.preprocessing import PolynomialFeatures"
   ]
  },
  {
   "cell_type": "markdown",
   "id": "certain-emission",
   "metadata": {},
   "source": [
    "## 1.Select a dataset with a continuous target variable."
   ]
  },
  {
   "cell_type": "code",
   "execution_count": 2,
   "id": "scheduled-coating",
   "metadata": {},
   "outputs": [],
   "source": [
    "swiss_df = data(\"swiss\")"
   ]
  },
  {
   "cell_type": "markdown",
   "id": "dynamic-stage",
   "metadata": {},
   "source": [
    "## 2. Be sure your data is prepared (no missing values, numeric datatypes) and split into samples."
   ]
  },
  {
   "cell_type": "code",
   "execution_count": 3,
   "id": "promotional-joseph",
   "metadata": {},
   "outputs": [
    {
     "name": "stdout",
     "output_type": "stream",
     "text": [
      "<class 'pandas.core.frame.DataFrame'>\n",
      "Index: 47 entries, Courtelary to Rive Gauche\n",
      "Data columns (total 6 columns):\n",
      " #   Column            Non-Null Count  Dtype  \n",
      "---  ------            --------------  -----  \n",
      " 0   Fertility         47 non-null     float64\n",
      " 1   Agriculture       47 non-null     float64\n",
      " 2   Examination       47 non-null     int64  \n",
      " 3   Education         47 non-null     int64  \n",
      " 4   Catholic          47 non-null     float64\n",
      " 5   Infant.Mortality  47 non-null     float64\n",
      "dtypes: float64(4), int64(2)\n",
      "memory usage: 2.6+ KB\n"
     ]
    }
   ],
   "source": [
    "swiss_df.info()"
   ]
  },
  {
   "cell_type": "code",
   "execution_count": 4,
   "id": "legal-correction",
   "metadata": {},
   "outputs": [
    {
     "name": "stdout",
     "output_type": "stream",
     "text": [
      "NaN values\n",
      "Empty DataFrame\n",
      "Columns: [rows, columns]\n",
      "Index: []\n",
      "--------------------------------\n",
      "Empty values\n",
      "Empty DataFrame\n",
      "Columns: [rows, columns]\n",
      "Index: []\n",
      "--------------------------------\n"
     ]
    },
    {
     "data": {
      "text/plain": [
       "{'nan_positions': (array([], dtype=int64), array([], dtype=int64)),\n",
       " 'empty_positions': (array([], dtype=int64), array([], dtype=int64))}"
      ]
     },
     "execution_count": 4,
     "metadata": {},
     "output_type": "execute_result"
    }
   ],
   "source": [
    "nan_null_empty_check(swiss_df)"
   ]
  },
  {
   "cell_type": "code",
   "execution_count": 5,
   "id": "worthy-highland",
   "metadata": {},
   "outputs": [
    {
     "data": {
      "text/html": [
       "<div>\n",
       "<style scoped>\n",
       "    .dataframe tbody tr th:only-of-type {\n",
       "        vertical-align: middle;\n",
       "    }\n",
       "\n",
       "    .dataframe tbody tr th {\n",
       "        vertical-align: top;\n",
       "    }\n",
       "\n",
       "    .dataframe thead th {\n",
       "        text-align: right;\n",
       "    }\n",
       "</style>\n",
       "<table border=\"1\" class=\"dataframe\">\n",
       "  <thead>\n",
       "    <tr style=\"text-align: right;\">\n",
       "      <th></th>\n",
       "      <th>Fertility</th>\n",
       "      <th>Agriculture</th>\n",
       "      <th>Examination</th>\n",
       "      <th>Education</th>\n",
       "      <th>Catholic</th>\n",
       "      <th>Infant_Mortality</th>\n",
       "    </tr>\n",
       "  </thead>\n",
       "  <tbody>\n",
       "    <tr>\n",
       "      <th>Rolle</th>\n",
       "      <td>60.5</td>\n",
       "      <td>60.8</td>\n",
       "      <td>16</td>\n",
       "      <td>10</td>\n",
       "      <td>7.72</td>\n",
       "      <td>16.3</td>\n",
       "    </tr>\n",
       "    <tr>\n",
       "      <th>Grandson</th>\n",
       "      <td>71.7</td>\n",
       "      <td>34.0</td>\n",
       "      <td>17</td>\n",
       "      <td>8</td>\n",
       "      <td>3.30</td>\n",
       "      <td>20.0</td>\n",
       "    </tr>\n",
       "    <tr>\n",
       "      <th>Paysd'enhaut</th>\n",
       "      <td>72.0</td>\n",
       "      <td>63.5</td>\n",
       "      <td>6</td>\n",
       "      <td>3</td>\n",
       "      <td>2.56</td>\n",
       "      <td>18.0</td>\n",
       "    </tr>\n",
       "    <tr>\n",
       "      <th>Sierre</th>\n",
       "      <td>92.2</td>\n",
       "      <td>84.6</td>\n",
       "      <td>3</td>\n",
       "      <td>3</td>\n",
       "      <td>99.46</td>\n",
       "      <td>16.3</td>\n",
       "    </tr>\n",
       "    <tr>\n",
       "      <th>Nyone</th>\n",
       "      <td>56.6</td>\n",
       "      <td>50.9</td>\n",
       "      <td>22</td>\n",
       "      <td>12</td>\n",
       "      <td>15.14</td>\n",
       "      <td>16.7</td>\n",
       "    </tr>\n",
       "    <tr>\n",
       "      <th>Gruyere</th>\n",
       "      <td>82.4</td>\n",
       "      <td>53.3</td>\n",
       "      <td>12</td>\n",
       "      <td>7</td>\n",
       "      <td>97.67</td>\n",
       "      <td>21.0</td>\n",
       "    </tr>\n",
       "    <tr>\n",
       "      <th>Le Locle</th>\n",
       "      <td>72.7</td>\n",
       "      <td>16.7</td>\n",
       "      <td>22</td>\n",
       "      <td>13</td>\n",
       "      <td>11.22</td>\n",
       "      <td>18.9</td>\n",
       "    </tr>\n",
       "    <tr>\n",
       "      <th>Boudry</th>\n",
       "      <td>70.4</td>\n",
       "      <td>38.4</td>\n",
       "      <td>26</td>\n",
       "      <td>12</td>\n",
       "      <td>5.62</td>\n",
       "      <td>20.3</td>\n",
       "    </tr>\n",
       "    <tr>\n",
       "      <th>Lausanne</th>\n",
       "      <td>55.7</td>\n",
       "      <td>19.4</td>\n",
       "      <td>26</td>\n",
       "      <td>28</td>\n",
       "      <td>12.11</td>\n",
       "      <td>20.2</td>\n",
       "    </tr>\n",
       "    <tr>\n",
       "      <th>Entremont</th>\n",
       "      <td>69.3</td>\n",
       "      <td>84.9</td>\n",
       "      <td>7</td>\n",
       "      <td>6</td>\n",
       "      <td>99.68</td>\n",
       "      <td>19.8</td>\n",
       "    </tr>\n",
       "    <tr>\n",
       "      <th>Herens</th>\n",
       "      <td>77.3</td>\n",
       "      <td>89.7</td>\n",
       "      <td>5</td>\n",
       "      <td>2</td>\n",
       "      <td>100.00</td>\n",
       "      <td>18.3</td>\n",
       "    </tr>\n",
       "    <tr>\n",
       "      <th>Lavaux</th>\n",
       "      <td>65.1</td>\n",
       "      <td>73.0</td>\n",
       "      <td>19</td>\n",
       "      <td>9</td>\n",
       "      <td>2.84</td>\n",
       "      <td>20.0</td>\n",
       "    </tr>\n",
       "    <tr>\n",
       "      <th>ValdeTravers</th>\n",
       "      <td>67.6</td>\n",
       "      <td>18.7</td>\n",
       "      <td>25</td>\n",
       "      <td>7</td>\n",
       "      <td>8.65</td>\n",
       "      <td>19.5</td>\n",
       "    </tr>\n",
       "    <tr>\n",
       "      <th>La Chauxdfnd</th>\n",
       "      <td>65.7</td>\n",
       "      <td>7.7</td>\n",
       "      <td>29</td>\n",
       "      <td>11</td>\n",
       "      <td>13.79</td>\n",
       "      <td>20.5</td>\n",
       "    </tr>\n",
       "  </tbody>\n",
       "</table>\n",
       "</div>"
      ],
      "text/plain": [
       "              Fertility  Agriculture  Examination  Education  Catholic  \\\n",
       "Rolle              60.5         60.8           16         10      7.72   \n",
       "Grandson           71.7         34.0           17          8      3.30   \n",
       "Paysd'enhaut       72.0         63.5            6          3      2.56   \n",
       "Sierre             92.2         84.6            3          3     99.46   \n",
       "Nyone              56.6         50.9           22         12     15.14   \n",
       "Gruyere            82.4         53.3           12          7     97.67   \n",
       "Le Locle           72.7         16.7           22         13     11.22   \n",
       "Boudry             70.4         38.4           26         12      5.62   \n",
       "Lausanne           55.7         19.4           26         28     12.11   \n",
       "Entremont          69.3         84.9            7          6     99.68   \n",
       "Herens             77.3         89.7            5          2    100.00   \n",
       "Lavaux             65.1         73.0           19          9      2.84   \n",
       "ValdeTravers       67.6         18.7           25          7      8.65   \n",
       "La Chauxdfnd       65.7          7.7           29         11     13.79   \n",
       "\n",
       "              Infant_Mortality  \n",
       "Rolle                     16.3  \n",
       "Grandson                  20.0  \n",
       "Paysd'enhaut              18.0  \n",
       "Sierre                    16.3  \n",
       "Nyone                     16.7  \n",
       "Gruyere                   21.0  \n",
       "Le Locle                  18.9  \n",
       "Boudry                    20.3  \n",
       "Lausanne                  20.2  \n",
       "Entremont                 19.8  \n",
       "Herens                    18.3  \n",
       "Lavaux                    20.0  \n",
       "ValdeTravers              19.5  \n",
       "La Chauxdfnd              20.5  "
      ]
     },
     "execution_count": 5,
     "metadata": {},
     "output_type": "execute_result"
    }
   ],
   "source": [
    "swiss_df.rename(columns={'Infant.Mortality' : 'Infant_Mortality'}, inplace=True)\n",
    "swiss_df.sample(14)"
   ]
  },
  {
   "cell_type": "code",
   "execution_count": 6,
   "id": "intelligent-expense",
   "metadata": {},
   "outputs": [],
   "source": [
    "train, validate, test = split_dataframe(swiss_df)"
   ]
  },
  {
   "cell_type": "markdown",
   "id": "tested-vertex",
   "metadata": {},
   "source": [
    "## 3. Work through all of the steps outlined in the lesson, from setting the baseline to selected a model and evaluating the final model on your test data."
   ]
  },
  {
   "cell_type": "code",
   "execution_count": 7,
   "id": "laden-boutique",
   "metadata": {},
   "outputs": [],
   "source": [
    "splits = generate_xy_splits(train, validate, test, 'Fertility')"
   ]
  },
  {
   "cell_type": "code",
   "execution_count": 8,
   "id": "declared-artwork",
   "metadata": {},
   "outputs": [
    {
     "data": {
      "image/png": "[encoded data removed]",
      "text/plain": [
       "<Figure size 432x288 with 1 Axes>"
      ]
     },
     "metadata": {
      "needs_background": "light"
     },
     "output_type": "display_data"
    }
   ],
   "source": [
    "plt.hist(splits['y_train'])\n",
    "plt.xlabel(\"Fertility rate\")\n",
    "plt.ylabel(\"Occurrences\")\n",
    "plt.show()"
   ]
  },
  {
   "cell_type": "code",
   "execution_count": 9,
   "id": "exposed-premises",
   "metadata": {},
   "outputs": [
    {
     "data": {
      "text/plain": [
       "(67.744, 68.3)"
      ]
     },
     "execution_count": 9,
     "metadata": {},
     "output_type": "execute_result"
    }
   ],
   "source": [
    "# Establish baseline\n",
    "mean_fertility = splits['y_train'].mean()\n",
    "median_fertility = splits['y_train'].median()\n",
    "(mean_fertility, median_fertility)"
   ]
  },
  {
   "cell_type": "code",
   "execution_count": 10,
   "id": "corporate-sleeping",
   "metadata": {},
   "outputs": [],
   "source": [
    "y_train = pd.DataFrame(splits['y_train'])\n",
    "y_train['mean_'] = mean_fertility\n",
    "\n",
    "y_validate = pd.DataFrame(splits['y_validate'])\n",
    "y_validate['mean_'] = mean_fertility"
   ]
  },
  {
   "cell_type": "code",
   "execution_count": 11,
   "id": "seven-wedding",
   "metadata": {},
   "outputs": [],
   "source": [
    "y_train['median_'] = median_fertility\n",
    "y_validate['median_'] = median_fertility"
   ]
  },
  {
   "cell_type": "code",
   "execution_count": 12,
   "id": "expired-termination",
   "metadata": {},
   "outputs": [
    {
     "name": "stdout",
     "output_type": "stream",
     "text": [
      "RMSE using Mean\n",
      "Train/In-Sample:  86.43 \n",
      "Validate/Out-of-Sample:  81.9\n"
     ]
    }
   ],
   "source": [
    "rmse_train = mean_squared_error(y_train.Fertility, y_train.mean_) ** 1/2\n",
    "rmse_validate = mean_squared_error(y_validate.Fertility, y_validate.mean_) ** 1/2\n",
    "\n",
    "print(\"RMSE using Mean\\nTrain/In-Sample: \", round(rmse_train, 2), \n",
    "      \"\\nValidate/Out-of-Sample: \", round(rmse_validate, 2))"
   ]
  },
  {
   "cell_type": "code",
   "execution_count": 13,
   "id": "tough-tsunami",
   "metadata": {},
   "outputs": [
    {
     "name": "stdout",
     "output_type": "stream",
     "text": [
      "RMSE using Mean\n",
      "Train/In-Sample:  86.59 \n",
      "Validate/Out-of-Sample:  78.24\n"
     ]
    }
   ],
   "source": [
    "rmse_train = mean_squared_error(y_train.Fertility, y_train.median_) ** 1/2\n",
    "rmse_validate = mean_squared_error(y_validate.Fertility, y_validate.median_) ** 1/2\n",
    "\n",
    "print(\"RMSE using Mean\\nTrain/In-Sample: \", round(rmse_train, 2), \n",
    "      \"\\nValidate/Out-of-Sample: \", round(rmse_validate, 2))"
   ]
  },
  {
   "cell_type": "code",
   "execution_count": 14,
   "id": "comparable-joseph",
   "metadata": {},
   "outputs": [
    {
     "data": {
      "image/png": "[encoded data removed]",
      "text/plain": [
       "<Figure size 432x288 with 1 Axes>"
      ]
     },
     "metadata": {
      "needs_background": "light"
     },
     "output_type": "display_data"
    }
   ],
   "source": [
    "# plot to visualize actual vs predicted. \n",
    "plt.hist(y_train.Fertility, color='blue', alpha=.5, label=\"Actual Fertility\")\n",
    "plt.hist(y_train.mean_, bins=1, color='red', alpha=.5, rwidth=100, label=\"Predicted Fertility - Mean\")\n",
    "plt.hist(y_train.median_, bins=1, color='orange', alpha=.5, rwidth=100, label=\"Predicted Fertility - Median\")\n",
    "plt.xlabel(\"Fertility Rate\")\n",
    "plt.ylabel(\"Occurences\")\n",
    "plt.legend()\n",
    "plt.show()"
   ]
  },
  {
   "cell_type": "code",
   "execution_count": 16,
   "id": "loose-vinyl",
   "metadata": {},
   "outputs": [],
   "source": [
    "# OLS\n",
    "lm = LinearRegression(normalize=True)\n",
    "\n",
    "lm.fit(splits['X_train'], y_train.Fertility)\n",
    "\n",
    "y_train['pred_fertility_lm'] = lm.predict(splits['X_train'])\n",
    "y_validate['pred_fertility_lm'] = lm.predict(splits['X_validate'])"
   ]
  },
  {
   "cell_type": "code",
   "execution_count": 18,
   "id": "demographic-radius",
   "metadata": {},
   "outputs": [
    {
     "name": "stdout",
     "output_type": "stream",
     "text": [
      "RMSE using OLS\n",
      "Train/In-Sample:  23.94 \n",
      "Validate/Out-of-Sample:  174.08\n"
     ]
    }
   ],
   "source": [
    "rmse_train = mean_squared_error(y_train.Fertility, y_train.pred_fertility_lm) ** 1/2\n",
    "rmse_validate = mean_squared_error(y_validate.Fertility, y_validate.pred_fertility_lm) ** 1.2\n",
    "\n",
    "print(\"RMSE using OLS\\nTrain/In-Sample: \", round(rmse_train, 2), \n",
    "      \"\\nValidate/Out-of-Sample: \", round(rmse_validate, 2))"
   ]
  },
  {
   "cell_type": "code",
   "execution_count": 19,
   "id": "violent-couple",
   "metadata": {},
   "outputs": [
    {
     "data": {
      "text/plain": [
       "LassoLars()"
      ]
     },
     "execution_count": 19,
     "metadata": {},
     "output_type": "execute_result"
    }
   ],
   "source": [
    "# LassoLars\n",
    "lars = LassoLars(alpha=1.0)\n",
    "\n",
    "lars.fit(splits['X_train'], y_train.Fertility)"
   ]
  },
  {
   "cell_type": "code",
   "execution_count": 20,
   "id": "worth-rwanda",
   "metadata": {},
   "outputs": [],
   "source": [
    "y_train['pred_fertility_lars'] = lars.predict(splits['X_train'])\n",
    "y_validate['pred_fertility_lars'] = lars.predict(splits['X_validate'])"
   ]
  },
  {
   "cell_type": "code",
   "execution_count": 21,
   "id": "lonely-northwest",
   "metadata": {},
   "outputs": [
    {
     "name": "stdout",
     "output_type": "stream",
     "text": [
      "RMSE using LARS\n",
      "Train/In-Sample:  50.64 \n",
      "Validate/Out-of-Sample:  65.98\n"
     ]
    }
   ],
   "source": [
    "rmse_train = mean_squared_error(y_train.Fertility, y_train.pred_fertility_lars) ** 1/2\n",
    "rmse_validate = mean_squared_error(y_validate.Fertility, y_validate.pred_fertility_lars) ** 1/2\n",
    "\n",
    "print(\"RMSE using LARS\\nTrain/In-Sample: \", round(rmse_train, 2), \n",
    "      \"\\nValidate/Out-of-Sample: \", round(rmse_validate, 2))"
   ]
  },
  {
   "cell_type": "code",
   "execution_count": 22,
   "id": "greater-value",
   "metadata": {},
   "outputs": [
    {
     "data": {
      "text/plain": [
       "TweedieRegressor(alpha=0, power=1)"
      ]
     },
     "execution_count": 22,
     "metadata": {},
     "output_type": "execute_result"
    }
   ],
   "source": [
    "# GLM\n",
    "glm = TweedieRegressor(power=1, alpha=0)\n",
    "\n",
    "glm.fit(splits['X_train'], y_train.Fertility)"
   ]
  },
  {
   "cell_type": "code",
   "execution_count": 23,
   "id": "equipped-reservation",
   "metadata": {},
   "outputs": [],
   "source": [
    "y_train['pred_fertility_glm'] = glm.predict(splits['X_train'])\n",
    "y_validate['pred_fertility_glm'] = glm.predict(splits['X_validate'])"
   ]
  },
  {
   "cell_type": "code",
   "execution_count": 25,
   "id": "digital-domestic",
   "metadata": {},
   "outputs": [
    {
     "name": "stdout",
     "output_type": "stream",
     "text": [
      "RMSE using GLM\n",
      "Train/In-Sample:  25.09 \n",
      "Validate/Out-of-Sample:  37.3\n"
     ]
    }
   ],
   "source": [
    "rmse_train = mean_squared_error(y_train.Fertility, y_train.pred_fertility_glm) ** 1/2\n",
    "rmse_validate = mean_squared_error(y_validate.Fertility, y_validate.pred_fertility_glm) ** 1/2\n",
    "\n",
    "print(\"RMSE using GLM\\nTrain/In-Sample: \", round(rmse_train, 2), \n",
    "      \"\\nValidate/Out-of-Sample: \", round(rmse_validate, 2))"
   ]
  },
  {
   "cell_type": "code",
   "execution_count": 26,
   "id": "configured-dependence",
   "metadata": {},
   "outputs": [],
   "source": [
    "# polynomial regression\n",
    "pf = PolynomialFeatures(degree=2)\n",
    "\n",
    "X_train_degree2 = pf.fit_transform(splits['X_train'])\n",
    "\n",
    "X_validate_degree2 = pf.transform(splits['X_validate'])\n",
    "X_test_degree2 = pf.transform(splits['X_test'])\n",
    "\n",
    "lm2 = LinearRegression(normalize=2)\n",
    "\n",
    "lm2.fit(X_train_degree2, y_train.Fertility)"
   ]
  },
  {
   "cell_type": "code",
   "execution_count": 28,
   "id": "utility-jumping",
   "metadata": {},
   "outputs": [],
   "source": [
    "y_train['pred_fertility_poly'] = lm2.predict(X_train_degree2)\n",
    "y_validate['pred_fertility_poly'] = lm2.predict(X_validate_degree2)"
   ]
  },
  {
   "cell_type": "code",
   "execution_count": 31,
   "id": "expressed-microwave",
   "metadata": {},
   "outputs": [
    {
     "name": "stdout",
     "output_type": "stream",
     "text": [
      "RMSE using polynomial regression\n",
      "Train/In-Sample:  3.95 \n",
      "Validate/Out-of-Sample:  94.53\n"
     ]
    }
   ],
   "source": [
    "rmse_train = mean_squared_error(y_train.Fertility, y_train.pred_fertility_poly) ** 1/2\n",
    "rmse_validate = mean_squared_error(y_validate.Fertility, y_validate.pred_fertility_poly) ** 1/2\n",
    "\n",
    "print(\"RMSE using polynomial regression\\nTrain/In-Sample: \", round(rmse_train, 2), \n",
    "      \"\\nValidate/Out-of-Sample: \", round(rmse_validate, 2))"
   ]
  },
  {
   "cell_type": "code",
   "execution_count": 38,
   "id": "academic-theme",
   "metadata": {},
   "outputs": [
    {
     "data": {
      "image/png": "[encoded data removed]",
      "text/plain": [
       "<Figure size 1152x576 with 1 Axes>"
      ]
     },
     "metadata": {
      "needs_background": "light"
     },
     "output_type": "display_data"
    }
   ],
   "source": [
    "# plot actual vs predicted\n",
    "plt.figure(figsize=(16,8))\n",
    "plt.plot(y_validate.Fertility, y_validate.mean_, alpha=.5, color=\"gray\", label='_nolegend_')\n",
    "plt.plot(y_validate.Fertility, y_validate.Fertility, alpha=.5, color=\"blue\", label='_nolegend_')\n",
    "\n",
    "plt.scatter(y_validate.Fertility, y_validate.pred_fertility_lm, \n",
    "            alpha=.5, color=\"red\", s=100, label=\"Model: OLS\")\n",
    "plt.scatter(y_validate.Fertility, y_validate.pred_fertility_glm, \n",
    "            alpha=.5, color=\"yellow\", s=100, label=\"Model: TweedieRegressor\")\n",
    "plt.scatter(y_validate.Fertility, y_validate.pred_fertility_poly, \n",
    "            alpha=.5, color=\"green\", s=100, label=\"Model 2nd degree Polynomial\")\n",
    "plt.scatter(y_validate.Fertility, y_validate.pred_fertility_lars, \n",
    "            alpha=.5, color=\"purple\", s=100, label=\"Model LARS\")\n",
    "plt.legend()\n",
    "plt.xlabel(\"Actual Fertiltiy\")\n",
    "plt.ylabel(\"Predicted Fertiltiy\")\n",
    "plt.title(\"Predicted vs Actual\")\n",
    "plt.show()"
   ]
  },
  {
   "cell_type": "code",
   "execution_count": 40,
   "id": "retained-compound",
   "metadata": {},
   "outputs": [
    {
     "data": {
      "image/png": "[encoded data removed]",
      "text/plain": [
       "<Figure size 1152x576 with 1 Axes>"
      ]
     },
     "metadata": {
      "needs_background": "light"
     },
     "output_type": "display_data"
    }
   ],
   "source": [
    "# plot residuals\n",
    "plt.figure(figsize=(16,8))\n",
    "plt.axhline(label=\"No Error\")\n",
    "plt.scatter(y_validate.Fertility, y_validate.pred_fertility_lm-y_validate.Fertility, \n",
    "            alpha=.5, color=\"red\", s=100, label=\"Model: OLS\")\n",
    "plt.scatter(y_validate.Fertility, y_validate.pred_fertility_glm-y_validate.Fertility, \n",
    "            alpha=.5, color=\"yellow\", s=100, label=\"Model: TweedieRegressor\")\n",
    "plt.scatter(y_validate.Fertility, y_validate.pred_fertility_poly-y_validate.Fertility, \n",
    "            alpha=.5, color=\"green\", s=100, label=\"Model 2nd degree Polynomial\")\n",
    "plt.scatter(y_validate.Fertility, y_validate.pred_fertility_lars-y_validate.Fertility, \n",
    "            alpha=.5, color=\"purple\", s=100, label=\"Model LARS\")\n",
    "plt.legend()\n",
    "plt.xlabel(\"Actual Fertiltiy\")\n",
    "plt.ylabel(\"Predicted Fertiltiy\")\n",
    "plt.title(\"Predicted vs Actual\")\n",
    "plt.show()"
   ]
  },
  {
   "cell_type": "code",
   "execution_count": 41,
   "id": "fatty-travel",
   "metadata": {},
   "outputs": [
    {
     "data": {
      "image/png": "[encoded data removed]",
      "text/plain": [
       "<Figure size 1152x576 with 1 Axes>"
      ]
     },
     "metadata": {
      "needs_background": "light"
     },
     "output_type": "display_data"
    }
   ],
   "source": [
    "# histogram\n",
    "plt.figure(figsize=(16,8))\n",
    "plt.hist(y_validate.Fertility, color='blue', alpha=.5, label=\"Actual Fertility\")\n",
    "plt.hist(y_validate.pred_fertility_lm, color='red', alpha=.5, label=\"Model: LinearRegression\")\n",
    "plt.hist(y_validate.pred_fertility_glm, color='yellow', alpha=.5, label=\"Model: TweedieRegressor\")\n",
    "plt.hist(y_validate.pred_fertility_poly, color='green', alpha=.5, label=\"Model 2nd degree Polynomial\")\n",
    "plt.hist(y_validate.pred_fertility_lars, color='purple', alpha=.5, label=\"Model LARS\")\n",
    "plt.xlabel(\"Actual Fertiltiy\")\n",
    "plt.ylabel(\"Predicted Fertiltiy\")\n",
    "plt.title(\"Predicted vs Actual\")\n",
    "plt.legend()\n",
    "plt.show()"
   ]
  },
  {
   "cell_type": "code",
   "execution_count": 44,
   "id": "underlying-current",
   "metadata": {},
   "outputs": [
    {
     "name": "stdout",
     "output_type": "stream",
     "text": [
      "RMSE for GLM Model\n",
      "Out-of-Sample Performance:  15.540304875813467\n"
     ]
    }
   ],
   "source": [
    "# Select GLM as best model\n",
    "y_test = pd.DataFrame(splits['y_test'])\n",
    "\n",
    "y_test['pred_fertility_glm'] = glm.predict(splits['X_test'])\n",
    "\n",
    "rmse_test = mean_squared_error(y_test.Fertility, y_test.pred_fertility_glm) ** 1/2\n",
    "\n",
    "print(\"RMSE for GLM Model\\nOut-of-Sample Performance: \", rmse_test)"
   ]
  },
  {
   "cell_type": "code",
   "execution_count": null,
   "id": "recreational-anderson",
   "metadata": {},
   "outputs": [],
   "source": []
  }
 ],
 "metadata": {
  "kernelspec": {
   "display_name": "Python 3",
   "language": "python",
   "name": "python3"
  },
  "language_info": {
   "codemirror_mode": {
    "name": "ipython",
    "version": 3
   },
   "file_extension": ".py",
   "mimetype": "text/x-python",
   "name": "python",
   "nbconvert_exporter": "python",
   "pygments_lexer": "ipython3",
   "version": "3.8.5"
  }
 },
 "nbformat": 4,
 "nbformat_minor": 5
}
