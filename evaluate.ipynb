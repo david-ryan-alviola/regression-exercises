{
 "cells": [
  {
   "cell_type": "code",
   "execution_count": 1,
   "id": "convertible-television",
   "metadata": {},
   "outputs": [],
   "source": [
    "import pandas as pd\n",
    "import matplotlib.pyplot as plt\n",
    "import seaborn as sns\n",
    "import evaluate as eval_util\n",
    "\n",
    "from pydataset import data\n",
    "from statsmodels.formula.api import ols\n",
    "from sklearn.metrics import mean_squared_error, explained_variance_score\n",
    "from math import sqrt"
   ]
  },
  {
   "cell_type": "markdown",
   "id": "external-egyptian",
   "metadata": {},
   "source": [
    "## 1. Load the tips dataset from either pydataset or seaborn."
   ]
  },
  {
   "cell_type": "code",
   "execution_count": 2,
   "id": "dental-nothing",
   "metadata": {},
   "outputs": [
    {
     "data": {
      "text/html": [
       "<div>\n",
       "<style scoped>\n",
       "    .dataframe tbody tr th:only-of-type {\n",
       "        vertical-align: middle;\n",
       "    }\n",
       "\n",
       "    .dataframe tbody tr th {\n",
       "        vertical-align: top;\n",
       "    }\n",
       "\n",
       "    .dataframe thead th {\n",
       "        text-align: right;\n",
       "    }\n",
       "</style>\n",
       "<table border=\"1\" class=\"dataframe\">\n",
       "  <thead>\n",
       "    <tr style=\"text-align: right;\">\n",
       "      <th></th>\n",
       "      <th>total_bill</th>\n",
       "      <th>tip</th>\n",
       "      <th>sex</th>\n",
       "      <th>smoker</th>\n",
       "      <th>day</th>\n",
       "      <th>time</th>\n",
       "      <th>size</th>\n",
       "    </tr>\n",
       "  </thead>\n",
       "  <tbody>\n",
       "    <tr>\n",
       "      <th>45</th>\n",
       "      <td>30.40</td>\n",
       "      <td>5.60</td>\n",
       "      <td>Male</td>\n",
       "      <td>No</td>\n",
       "      <td>Sun</td>\n",
       "      <td>Dinner</td>\n",
       "      <td>4</td>\n",
       "    </tr>\n",
       "    <tr>\n",
       "      <th>4</th>\n",
       "      <td>23.68</td>\n",
       "      <td>3.31</td>\n",
       "      <td>Male</td>\n",
       "      <td>No</td>\n",
       "      <td>Sun</td>\n",
       "      <td>Dinner</td>\n",
       "      <td>2</td>\n",
       "    </tr>\n",
       "    <tr>\n",
       "      <th>123</th>\n",
       "      <td>14.26</td>\n",
       "      <td>2.50</td>\n",
       "      <td>Male</td>\n",
       "      <td>No</td>\n",
       "      <td>Thur</td>\n",
       "      <td>Lunch</td>\n",
       "      <td>2</td>\n",
       "    </tr>\n",
       "    <tr>\n",
       "      <th>176</th>\n",
       "      <td>32.90</td>\n",
       "      <td>3.11</td>\n",
       "      <td>Male</td>\n",
       "      <td>Yes</td>\n",
       "      <td>Sun</td>\n",
       "      <td>Dinner</td>\n",
       "      <td>2</td>\n",
       "    </tr>\n",
       "    <tr>\n",
       "      <th>107</th>\n",
       "      <td>20.49</td>\n",
       "      <td>4.06</td>\n",
       "      <td>Male</td>\n",
       "      <td>Yes</td>\n",
       "      <td>Sat</td>\n",
       "      <td>Dinner</td>\n",
       "      <td>2</td>\n",
       "    </tr>\n",
       "    <tr>\n",
       "      <th>157</th>\n",
       "      <td>48.17</td>\n",
       "      <td>5.00</td>\n",
       "      <td>Male</td>\n",
       "      <td>No</td>\n",
       "      <td>Sun</td>\n",
       "      <td>Dinner</td>\n",
       "      <td>6</td>\n",
       "    </tr>\n",
       "    <tr>\n",
       "      <th>215</th>\n",
       "      <td>28.17</td>\n",
       "      <td>6.50</td>\n",
       "      <td>Female</td>\n",
       "      <td>Yes</td>\n",
       "      <td>Sat</td>\n",
       "      <td>Dinner</td>\n",
       "      <td>3</td>\n",
       "    </tr>\n",
       "    <tr>\n",
       "      <th>21</th>\n",
       "      <td>17.92</td>\n",
       "      <td>4.08</td>\n",
       "      <td>Male</td>\n",
       "      <td>No</td>\n",
       "      <td>Sat</td>\n",
       "      <td>Dinner</td>\n",
       "      <td>2</td>\n",
       "    </tr>\n",
       "    <tr>\n",
       "      <th>223</th>\n",
       "      <td>8.58</td>\n",
       "      <td>1.92</td>\n",
       "      <td>Male</td>\n",
       "      <td>Yes</td>\n",
       "      <td>Fri</td>\n",
       "      <td>Lunch</td>\n",
       "      <td>1</td>\n",
       "    </tr>\n",
       "    <tr>\n",
       "      <th>146</th>\n",
       "      <td>8.35</td>\n",
       "      <td>1.50</td>\n",
       "      <td>Female</td>\n",
       "      <td>No</td>\n",
       "      <td>Thur</td>\n",
       "      <td>Lunch</td>\n",
       "      <td>2</td>\n",
       "    </tr>\n",
       "    <tr>\n",
       "      <th>23</th>\n",
       "      <td>15.77</td>\n",
       "      <td>2.23</td>\n",
       "      <td>Female</td>\n",
       "      <td>No</td>\n",
       "      <td>Sat</td>\n",
       "      <td>Dinner</td>\n",
       "      <td>2</td>\n",
       "    </tr>\n",
       "    <tr>\n",
       "      <th>149</th>\n",
       "      <td>9.78</td>\n",
       "      <td>1.73</td>\n",
       "      <td>Male</td>\n",
       "      <td>No</td>\n",
       "      <td>Thur</td>\n",
       "      <td>Lunch</td>\n",
       "      <td>2</td>\n",
       "    </tr>\n",
       "    <tr>\n",
       "      <th>174</th>\n",
       "      <td>31.85</td>\n",
       "      <td>3.18</td>\n",
       "      <td>Male</td>\n",
       "      <td>Yes</td>\n",
       "      <td>Sun</td>\n",
       "      <td>Dinner</td>\n",
       "      <td>2</td>\n",
       "    </tr>\n",
       "    <tr>\n",
       "      <th>122</th>\n",
       "      <td>13.42</td>\n",
       "      <td>1.68</td>\n",
       "      <td>Female</td>\n",
       "      <td>No</td>\n",
       "      <td>Thur</td>\n",
       "      <td>Lunch</td>\n",
       "      <td>2</td>\n",
       "    </tr>\n",
       "  </tbody>\n",
       "</table>\n",
       "</div>"
      ],
      "text/plain": [
       "     total_bill   tip     sex smoker   day    time  size\n",
       "45        30.40  5.60    Male     No   Sun  Dinner     4\n",
       "4         23.68  3.31    Male     No   Sun  Dinner     2\n",
       "123       14.26  2.50    Male     No  Thur   Lunch     2\n",
       "176       32.90  3.11    Male    Yes   Sun  Dinner     2\n",
       "107       20.49  4.06    Male    Yes   Sat  Dinner     2\n",
       "157       48.17  5.00    Male     No   Sun  Dinner     6\n",
       "215       28.17  6.50  Female    Yes   Sat  Dinner     3\n",
       "21        17.92  4.08    Male     No   Sat  Dinner     2\n",
       "223        8.58  1.92    Male    Yes   Fri   Lunch     1\n",
       "146        8.35  1.50  Female     No  Thur   Lunch     2\n",
       "23        15.77  2.23  Female     No   Sat  Dinner     2\n",
       "149        9.78  1.73    Male     No  Thur   Lunch     2\n",
       "174       31.85  3.18    Male    Yes   Sun  Dinner     2\n",
       "122       13.42  1.68  Female     No  Thur   Lunch     2"
      ]
     },
     "execution_count": 2,
     "metadata": {},
     "output_type": "execute_result"
    }
   ],
   "source": [
    "tips_df = data(\"tips\")\n",
    "tips_df.sample(14)"
   ]
  },
  {
   "cell_type": "markdown",
   "id": "strategic-processor",
   "metadata": {},
   "source": [
    "## 2. Fit a linear regression model (ordinary least squares) and compute yhat, predictions of tip using total_bill."
   ]
  },
  {
   "cell_type": "code",
   "execution_count": 3,
   "id": "civic-techno",
   "metadata": {},
   "outputs": [],
   "source": [
    "# generate OLS model with formula y ~ x or target ~ independent variable\n",
    "ols_model = ols('tip ~ total_bill', data=tips_df).fit()"
   ]
  },
  {
   "cell_type": "code",
   "execution_count": 4,
   "id": "norwegian-turkey",
   "metadata": {},
   "outputs": [
    {
     "data": {
      "text/html": [
       "<div>\n",
       "<style scoped>\n",
       "    .dataframe tbody tr th:only-of-type {\n",
       "        vertical-align: middle;\n",
       "    }\n",
       "\n",
       "    .dataframe tbody tr th {\n",
       "        vertical-align: top;\n",
       "    }\n",
       "\n",
       "    .dataframe thead th {\n",
       "        text-align: right;\n",
       "    }\n",
       "</style>\n",
       "<table border=\"1\" class=\"dataframe\">\n",
       "  <thead>\n",
       "    <tr style=\"text-align: right;\">\n",
       "      <th></th>\n",
       "      <th>total_bill</th>\n",
       "      <th>tip</th>\n",
       "      <th>sex</th>\n",
       "      <th>smoker</th>\n",
       "      <th>day</th>\n",
       "      <th>time</th>\n",
       "      <th>size</th>\n",
       "      <th>yhat</th>\n",
       "    </tr>\n",
       "  </thead>\n",
       "  <tbody>\n",
       "    <tr>\n",
       "      <th>244</th>\n",
       "      <td>18.78</td>\n",
       "      <td>3.00</td>\n",
       "      <td>Female</td>\n",
       "      <td>No</td>\n",
       "      <td>Thur</td>\n",
       "      <td>Dinner</td>\n",
       "      <td>2</td>\n",
       "      <td>2.892630</td>\n",
       "    </tr>\n",
       "    <tr>\n",
       "      <th>187</th>\n",
       "      <td>20.90</td>\n",
       "      <td>3.50</td>\n",
       "      <td>Female</td>\n",
       "      <td>Yes</td>\n",
       "      <td>Sun</td>\n",
       "      <td>Dinner</td>\n",
       "      <td>3</td>\n",
       "      <td>3.115282</td>\n",
       "    </tr>\n",
       "    <tr>\n",
       "      <th>186</th>\n",
       "      <td>20.69</td>\n",
       "      <td>5.00</td>\n",
       "      <td>Male</td>\n",
       "      <td>No</td>\n",
       "      <td>Sun</td>\n",
       "      <td>Dinner</td>\n",
       "      <td>5</td>\n",
       "      <td>3.093227</td>\n",
       "    </tr>\n",
       "    <tr>\n",
       "      <th>195</th>\n",
       "      <td>16.58</td>\n",
       "      <td>4.00</td>\n",
       "      <td>Male</td>\n",
       "      <td>Yes</td>\n",
       "      <td>Thur</td>\n",
       "      <td>Lunch</td>\n",
       "      <td>2</td>\n",
       "      <td>2.661576</td>\n",
       "    </tr>\n",
       "    <tr>\n",
       "      <th>108</th>\n",
       "      <td>25.21</td>\n",
       "      <td>4.29</td>\n",
       "      <td>Male</td>\n",
       "      <td>Yes</td>\n",
       "      <td>Sat</td>\n",
       "      <td>Dinner</td>\n",
       "      <td>2</td>\n",
       "      <td>3.567938</td>\n",
       "    </tr>\n",
       "    <tr>\n",
       "      <th>9</th>\n",
       "      <td>15.04</td>\n",
       "      <td>1.96</td>\n",
       "      <td>Male</td>\n",
       "      <td>No</td>\n",
       "      <td>Sun</td>\n",
       "      <td>Dinner</td>\n",
       "      <td>2</td>\n",
       "      <td>2.499838</td>\n",
       "    </tr>\n",
       "    <tr>\n",
       "      <th>181</th>\n",
       "      <td>34.65</td>\n",
       "      <td>3.68</td>\n",
       "      <td>Male</td>\n",
       "      <td>Yes</td>\n",
       "      <td>Sun</td>\n",
       "      <td>Dinner</td>\n",
       "      <td>4</td>\n",
       "      <td>4.559369</td>\n",
       "    </tr>\n",
       "    <tr>\n",
       "      <th>219</th>\n",
       "      <td>7.74</td>\n",
       "      <td>1.44</td>\n",
       "      <td>Male</td>\n",
       "      <td>Yes</td>\n",
       "      <td>Sat</td>\n",
       "      <td>Dinner</td>\n",
       "      <td>2</td>\n",
       "      <td>1.733159</td>\n",
       "    </tr>\n",
       "    <tr>\n",
       "      <th>155</th>\n",
       "      <td>19.77</td>\n",
       "      <td>2.00</td>\n",
       "      <td>Male</td>\n",
       "      <td>No</td>\n",
       "      <td>Sun</td>\n",
       "      <td>Dinner</td>\n",
       "      <td>4</td>\n",
       "      <td>2.996604</td>\n",
       "    </tr>\n",
       "    <tr>\n",
       "      <th>115</th>\n",
       "      <td>25.71</td>\n",
       "      <td>4.00</td>\n",
       "      <td>Female</td>\n",
       "      <td>No</td>\n",
       "      <td>Sun</td>\n",
       "      <td>Dinner</td>\n",
       "      <td>3</td>\n",
       "      <td>3.620450</td>\n",
       "    </tr>\n",
       "    <tr>\n",
       "      <th>104</th>\n",
       "      <td>22.42</td>\n",
       "      <td>3.48</td>\n",
       "      <td>Female</td>\n",
       "      <td>Yes</td>\n",
       "      <td>Sat</td>\n",
       "      <td>Dinner</td>\n",
       "      <td>2</td>\n",
       "      <td>3.274919</td>\n",
       "    </tr>\n",
       "    <tr>\n",
       "      <th>214</th>\n",
       "      <td>13.27</td>\n",
       "      <td>2.50</td>\n",
       "      <td>Female</td>\n",
       "      <td>Yes</td>\n",
       "      <td>Sat</td>\n",
       "      <td>Dinner</td>\n",
       "      <td>2</td>\n",
       "      <td>2.313945</td>\n",
       "    </tr>\n",
       "    <tr>\n",
       "      <th>130</th>\n",
       "      <td>22.82</td>\n",
       "      <td>2.18</td>\n",
       "      <td>Male</td>\n",
       "      <td>No</td>\n",
       "      <td>Thur</td>\n",
       "      <td>Lunch</td>\n",
       "      <td>3</td>\n",
       "      <td>3.316929</td>\n",
       "    </tr>\n",
       "    <tr>\n",
       "      <th>66</th>\n",
       "      <td>20.08</td>\n",
       "      <td>3.15</td>\n",
       "      <td>Male</td>\n",
       "      <td>No</td>\n",
       "      <td>Sat</td>\n",
       "      <td>Dinner</td>\n",
       "      <td>3</td>\n",
       "      <td>3.029162</td>\n",
       "    </tr>\n",
       "  </tbody>\n",
       "</table>\n",
       "</div>"
      ],
      "text/plain": [
       "     total_bill   tip     sex smoker   day    time  size      yhat\n",
       "244       18.78  3.00  Female     No  Thur  Dinner     2  2.892630\n",
       "187       20.90  3.50  Female    Yes   Sun  Dinner     3  3.115282\n",
       "186       20.69  5.00    Male     No   Sun  Dinner     5  3.093227\n",
       "195       16.58  4.00    Male    Yes  Thur   Lunch     2  2.661576\n",
       "108       25.21  4.29    Male    Yes   Sat  Dinner     2  3.567938\n",
       "9         15.04  1.96    Male     No   Sun  Dinner     2  2.499838\n",
       "181       34.65  3.68    Male    Yes   Sun  Dinner     4  4.559369\n",
       "219        7.74  1.44    Male    Yes   Sat  Dinner     2  1.733159\n",
       "155       19.77  2.00    Male     No   Sun  Dinner     4  2.996604\n",
       "115       25.71  4.00  Female     No   Sun  Dinner     3  3.620450\n",
       "104       22.42  3.48  Female    Yes   Sat  Dinner     2  3.274919\n",
       "214       13.27  2.50  Female    Yes   Sat  Dinner     2  2.313945\n",
       "130       22.82  2.18    Male     No  Thur   Lunch     3  3.316929\n",
       "66        20.08  3.15    Male     No   Sat  Dinner     3  3.029162"
      ]
     },
     "execution_count": 4,
     "metadata": {},
     "output_type": "execute_result"
    }
   ],
   "source": [
    "# compute predictions and add to original dataframe\n",
    "tips_df['yhat'] = ols_model.predict(tips_df['total_bill'])\n",
    "tips_df.sample(14)"
   ]
  },
  {
   "cell_type": "markdown",
   "id": "homeless-master",
   "metadata": {},
   "source": [
    "## 3. Plot the residuals for the linear regression model that you made."
   ]
  },
  {
   "cell_type": "code",
   "execution_count": 5,
   "id": "frozen-astronomy",
   "metadata": {},
   "outputs": [
    {
     "data": {
      "image/png": "[encoded data removed]",
      "text/plain": [
       "<Figure size 432x288 with 1 Axes>"
      ]
     },
     "metadata": {
      "needs_background": "light"
     },
     "output_type": "display_data"
    }
   ],
   "source": [
    "sns.scatterplot(x=tips_df.total_bill, y=(tips_df.yhat - tips_df.tip), data=tips_df)\n",
    "plt.show()"
   ]
  },
  {
   "cell_type": "markdown",
   "id": "efficient-honey",
   "metadata": {},
   "source": [
    "## 4. Calculate the sum of squared errors, explained sum of squares, total sum of squares, mean squared error, and root mean squared error for your model."
   ]
  },
  {
   "cell_type": "code",
   "execution_count": 6,
   "id": "norwegian-rolling",
   "metadata": {},
   "outputs": [
    {
     "data": {
      "text/plain": [
       "252.788743850776"
      ]
     },
     "execution_count": 6,
     "metadata": {},
     "output_type": "execute_result"
    }
   ],
   "source": [
    "sse2 = mean_squared_error(tips_df.tip, tips_df.yhat) * len(tips_df)\n",
    "sse2"
   ]
  },
  {
   "cell_type": "code",
   "execution_count": 7,
   "id": "genetic-catholic",
   "metadata": {},
   "outputs": [
    {
     "data": {
      "text/plain": [
       "212.4237331984042"
      ]
     },
     "execution_count": 7,
     "metadata": {},
     "output_type": "execute_result"
    }
   ],
   "source": [
    "ess = sum((tips_df.yhat - tips_df.tip.mean()) ** 2)\n",
    "ess"
   ]
  },
  {
   "cell_type": "code",
   "execution_count": 8,
   "id": "unlikely-photographer",
   "metadata": {},
   "outputs": [
    {
     "data": {
      "text/plain": [
       "465.21247704918017"
      ]
     },
     "execution_count": 8,
     "metadata": {},
     "output_type": "execute_result"
    }
   ],
   "source": [
    "tss = ess + sse2\n",
    "tss"
   ]
  },
  {
   "cell_type": "code",
   "execution_count": 9,
   "id": "royal-stereo",
   "metadata": {},
   "outputs": [
    {
     "data": {
      "text/plain": [
       "1.036019442011377"
      ]
     },
     "execution_count": 9,
     "metadata": {},
     "output_type": "execute_result"
    }
   ],
   "source": [
    "mse = mean_squared_error(tips_df.tip, tips_df.yhat)\n",
    "mse"
   ]
  },
  {
   "cell_type": "code",
   "execution_count": 10,
   "id": "every-safety",
   "metadata": {},
   "outputs": [
    {
     "data": {
      "text/plain": [
       "1.0178504025697377"
      ]
     },
     "execution_count": 10,
     "metadata": {},
     "output_type": "execute_result"
    }
   ],
   "source": [
    "rmse = sqrt(mse)\n",
    "rmse"
   ]
  },
  {
   "cell_type": "markdown",
   "id": "simple-myrtle",
   "metadata": {},
   "source": [
    "## 5. Calculate the sum of squared errors, mean squared error, and root mean squared error for the baseline model (i.e. a model that always predicts the average tip amount)."
   ]
  },
  {
   "cell_type": "code",
   "execution_count": 11,
   "id": "placed-fluid",
   "metadata": {},
   "outputs": [],
   "source": [
    "baseline_model = tips_df.tip.mean()\n",
    "tips_df['yhat_baseline'] = baseline_model"
   ]
  },
  {
   "cell_type": "code",
   "execution_count": 12,
   "id": "sharp-reliance",
   "metadata": {},
   "outputs": [
    {
     "data": {
      "text/plain": [
       "465.2124770491804"
      ]
     },
     "execution_count": 12,
     "metadata": {},
     "output_type": "execute_result"
    }
   ],
   "source": [
    "sse2_baseline = mean_squared_error(tips_df.tip, tips_df.yhat_baseline) * len(tips_df)\n",
    "sse2_baseline"
   ]
  },
  {
   "cell_type": "code",
   "execution_count": 13,
   "id": "stock-cartridge",
   "metadata": {},
   "outputs": [
    {
     "data": {
      "text/plain": [
       "0.0"
      ]
     },
     "execution_count": 13,
     "metadata": {},
     "output_type": "execute_result"
    }
   ],
   "source": [
    "ess_baseline = sum((tips_df.yhat_baseline - tips_df.tip.mean()) ** 2)\n",
    "ess_baseline"
   ]
  },
  {
   "cell_type": "code",
   "execution_count": 14,
   "id": "figured-rainbow",
   "metadata": {},
   "outputs": [
    {
     "data": {
      "text/plain": [
       "465.2124770491804"
      ]
     },
     "execution_count": 14,
     "metadata": {},
     "output_type": "execute_result"
    }
   ],
   "source": [
    "tss_baseline = ess_baseline + sse2_baseline\n",
    "tss_baseline"
   ]
  },
  {
   "cell_type": "code",
   "execution_count": 15,
   "id": "sealed-destination",
   "metadata": {},
   "outputs": [
    {
     "data": {
      "text/plain": [
       "1.906608512496641"
      ]
     },
     "execution_count": 15,
     "metadata": {},
     "output_type": "execute_result"
    }
   ],
   "source": [
    "mse_baseline = mean_squared_error(tips_df.tip, tips_df.yhat_baseline)\n",
    "mse_baseline"
   ]
  },
  {
   "cell_type": "code",
   "execution_count": 16,
   "id": "indonesian-fetish",
   "metadata": {},
   "outputs": [
    {
     "data": {
      "text/plain": [
       "1.3807999538298954"
      ]
     },
     "execution_count": 16,
     "metadata": {},
     "output_type": "execute_result"
    }
   ],
   "source": [
    "rmse_baseline = sqrt(mse_baseline)\n",
    "rmse_baseline"
   ]
  },
  {
   "cell_type": "markdown",
   "id": "nutritional-lending",
   "metadata": {},
   "source": [
    "## 6. Write python code that compares the sum of squared errors for your model against the sum of squared errors for the baseline model and outputs whether or not your model performs better than the baseline model."
   ]
  },
  {
   "cell_type": "code",
   "execution_count": 17,
   "id": "instrumental-studio",
   "metadata": {},
   "outputs": [],
   "source": [
    "def compare_sum_squared_errors(model_sse2, baseline_sse2):\n",
    "    delta = model_sse2 - baseline_sse2\n",
    "    \n",
    "    if (model_sse2 < baseline_sse2):\n",
    "        print(f\"The model performs better than the baseline with an SSE2 value of {model_sse2} and delta of {delta}\")\n",
    "        return True\n",
    "    else:\n",
    "        print(f\"The baseline performs better than the model with an SSE2 value of {baseline_sse2} and delta of {delta}\")\n",
    "        return False"
   ]
  },
  {
   "cell_type": "code",
   "execution_count": 18,
   "id": "resistant-vacuum",
   "metadata": {},
   "outputs": [
    {
     "name": "stdout",
     "output_type": "stream",
     "text": [
      "The model performs better than the baseline with an SSE2 value of 252.788743850776 and delta of -212.4237331984044\n"
     ]
    },
    {
     "data": {
      "text/plain": [
       "True"
      ]
     },
     "execution_count": 18,
     "metadata": {},
     "output_type": "execute_result"
    }
   ],
   "source": [
    "compare_sum_squared_errors(sse2, sse2_baseline)"
   ]
  },
  {
   "cell_type": "markdown",
   "id": "modern-mention",
   "metadata": {},
   "source": [
    "## 7. What is the amount of variance explained in your model?"
   ]
  },
  {
   "cell_type": "code",
   "execution_count": 19,
   "id": "endless-potato",
   "metadata": {},
   "outputs": [
    {
     "data": {
      "text/plain": [
       "0.45661658635167646"
      ]
     },
     "execution_count": 19,
     "metadata": {},
     "output_type": "execute_result"
    }
   ],
   "source": [
    "r2 = ols_model.rsquared\n",
    "r2"
   ]
  },
  {
   "cell_type": "code",
   "execution_count": 20,
   "id": "vocational-magnitude",
   "metadata": {},
   "outputs": [
    {
     "data": {
      "text/plain": [
       "0.4566165863516767"
      ]
     },
     "execution_count": 20,
     "metadata": {},
     "output_type": "execute_result"
    }
   ],
   "source": [
    "# Alternate method\n",
    "r2_skl = explained_variance_score(tips_df.tip, tips_df.yhat)\n",
    "r2_skl"
   ]
  },
  {
   "cell_type": "markdown",
   "id": "third-grocery",
   "metadata": {},
   "source": [
    "## 8. Is your model significantly better than the baseline model?"
   ]
  },
  {
   "cell_type": "code",
   "execution_count": 21,
   "id": "objective-cyprus",
   "metadata": {},
   "outputs": [
    {
     "data": {
      "text/plain": [
       "(6.692470646863376e-34, True)"
      ]
     },
     "execution_count": 21,
     "metadata": {},
     "output_type": "execute_result"
    }
   ],
   "source": [
    "p_value = ols_model.f_pvalue\n",
    "alpha = .05\n",
    "\n",
    "(p_value, p_value < alpha)"
   ]
  },
  {
   "cell_type": "markdown",
   "id": "equivalent-egypt",
   "metadata": {},
   "source": [
    "Since the p value is less than an alpha of .05, we can say that the correlation between the model and dependent variable is statistically significant, thus the model performs better than the baseline."
   ]
  },
  {
   "cell_type": "markdown",
   "id": "general-temple",
   "metadata": {},
   "source": [
    "## 9. Create a file named evaluate.py that contains the following functions.\n",
    "\n",
    "1. plot_residuals(y, yhat): creates a residual plot\n",
    "2. regression_errors(y, yhat): returns the following values:\n",
    "    * sum of squared errors (SSE)\n",
    "    * explained sum of squares (ESS)\n",
    "    * total sum of squares (TSS)\n",
    "    * mean squared error (MSE)\n",
    "    * root mean squared error (RMSE)\n",
    "3. baseline_mean_errors(y): computes the SSE, MSE, and RMSE for the baseline model\n",
    "4. better_than_baseline(y, yhat): returns true if your model performs better than the baseline, otherwise false\n",
    "5. model_significance(ols_model): that takes the ols model as input and returns the amount of variance explained in your model, and the value telling you whether your model is significantly better than the baseline model (Hint: use the rsquared and f_pvalue properties from the ols model)"
   ]
  },
  {
   "cell_type": "code",
   "execution_count": 22,
   "id": "civilian-injection",
   "metadata": {},
   "outputs": [],
   "source": [
    "def plot_residuals(y, yhat):\n",
    "    sns.scatterplot(x=y, y=yhat - y)\n",
    "    plt.title(\"Residuals\")\n",
    "    plt.ylabel(\"yhat - y\")\n",
    "    plt.show()"
   ]
  },
  {
   "cell_type": "code",
   "execution_count": 23,
   "id": "discrete-intake",
   "metadata": {},
   "outputs": [
    {
     "data": {
      "image/png": "[encoded data removed]",
      "text/plain": [
       "<Figure size 432x288 with 1 Axes>"
      ]
     },
     "metadata": {
      "needs_background": "light"
     },
     "output_type": "display_data"
    }
   ],
   "source": [
    "plot_residuals(tips_df.tip, tips_df.yhat)"
   ]
  },
  {
   "cell_type": "code",
   "execution_count": 24,
   "id": "analyzed-payday",
   "metadata": {},
   "outputs": [],
   "source": [
    "def plot_residuals_against_x(x, y, yhat, df):\n",
    "    sns.scatterplot(x=x, y=(yhat - y), data=df)\n",
    "    plt.title(\"Residuals\")\n",
    "    plt.ylabel(\"yhat - y\")\n",
    "    plt.show()"
   ]
  },
  {
   "cell_type": "code",
   "execution_count": 25,
   "id": "disabled-glossary",
   "metadata": {},
   "outputs": [
    {
     "data": {
      "image/png": "[encoded data removed]",
      "text/plain": [
       "<Figure size 432x288 with 1 Axes>"
      ]
     },
     "metadata": {
      "needs_background": "light"
     },
     "output_type": "display_data"
    }
   ],
   "source": [
    "plot_residuals_against_x(tips_df.total_bill, tips_df.tip, tips_df.yhat, tips_df)"
   ]
  },
  {
   "cell_type": "code",
   "execution_count": 26,
   "id": "latin-emerald",
   "metadata": {},
   "outputs": [],
   "source": [
    "def regression_errors(y, yhat):\n",
    "    sse2 = mean_squared_error(y, yhat) * len(y)\n",
    "    ess = sum((yhat - y.mean()) ** 2)\n",
    "    tss = ess + sse2\n",
    "    mse = mean_squared_error(y, yhat)\n",
    "    rmse = sqrt(mse)\n",
    "    \n",
    "    return sse2, ess, tss, mse, rmse"
   ]
  },
  {
   "cell_type": "code",
   "execution_count": 27,
   "id": "flying-fiber",
   "metadata": {},
   "outputs": [
    {
     "data": {
      "text/plain": [
       "(252.788743850776,\n",
       " 212.4237331984042,\n",
       " 465.21247704918017,\n",
       " 1.036019442011377,\n",
       " 1.0178504025697377)"
      ]
     },
     "execution_count": 27,
     "metadata": {},
     "output_type": "execute_result"
    }
   ],
   "source": [
    "regression_errors(tips_df.tip, tips_df.yhat)"
   ]
  },
  {
   "cell_type": "code",
   "execution_count": 28,
   "id": "hungarian-understanding",
   "metadata": {},
   "outputs": [],
   "source": [
    "def baseline_mean_errors(y):\n",
    "    index = []\n",
    "    \n",
    "    for i in range(1, len(y) + 1):\n",
    "        index.append(i)\n",
    "        \n",
    "    y_mean = pd.Series(y.mean(), index=index)\n",
    "\n",
    "    sse2_baseline = mean_squared_error(y, y_mean) * len(y)\n",
    "    mse_baseline = mean_squared_error(y, y_mean)\n",
    "    rmse_baseline = sqrt(mse_baseline)\n",
    "    \n",
    "    return sse2_baseline, mse_baseline, rmse_baseline"
   ]
  },
  {
   "cell_type": "code",
   "execution_count": 29,
   "id": "collect-insight",
   "metadata": {},
   "outputs": [
    {
     "data": {
      "text/plain": [
       "(465.2124770491804, 1.906608512496641, 1.3807999538298954)"
      ]
     },
     "execution_count": 29,
     "metadata": {},
     "output_type": "execute_result"
    }
   ],
   "source": [
    "baseline_mean_errors(tips_df.tip)"
   ]
  },
  {
   "cell_type": "code",
   "execution_count": 30,
   "id": "revised-stuff",
   "metadata": {},
   "outputs": [],
   "source": [
    "def better_than_baseline(y, yhat):\n",
    "    sse2, ess, tss, mse, rmse = regression_errors(y, yhat)\n",
    "    sse2_baseline, mse_baseline, rmse_baseline = baseline_mean_errors(y)\n",
    "    \n",
    "    compare_sum_squared_errors(sse2, sse2_baseline)"
   ]
  },
  {
   "cell_type": "code",
   "execution_count": 31,
   "id": "promising-pension",
   "metadata": {},
   "outputs": [
    {
     "name": "stdout",
     "output_type": "stream",
     "text": [
      "The model performs better than the baseline with an SSE2 value of 252.788743850776 and delta of -212.4237331984044\n"
     ]
    }
   ],
   "source": [
    "better_than_baseline(tips_df.tip, tips_df.yhat)"
   ]
  },
  {
   "cell_type": "code",
   "execution_count": 32,
   "id": "active-abraham",
   "metadata": {},
   "outputs": [],
   "source": [
    "def model_signficance(ols_model):\n",
    "    r2 = ols_model.rsquared\n",
    "    p_value = ols_model.f_pvalue\n",
    "    alpha = .05\n",
    "\n",
    "    print(f\"variance:  {r2}, p:  {p_value}, a: {alpha},  signficant:  {p_value < alpha}\")\n",
    "    return r2, p_value, p_value < alpha"
   ]
  },
  {
   "cell_type": "code",
   "execution_count": 33,
   "id": "constitutional-rogers",
   "metadata": {},
   "outputs": [
    {
     "name": "stdout",
     "output_type": "stream",
     "text": [
      "variance:  0.45661658635167646, p:  6.692470646863376e-34, a: 0.05,  signficant:  True\n"
     ]
    },
    {
     "data": {
      "text/plain": [
       "(0.45661658635167646, 6.692470646863376e-34, True)"
      ]
     },
     "execution_count": 33,
     "metadata": {},
     "output_type": "execute_result"
    }
   ],
   "source": [
    "model_signficance(ols_model)"
   ]
  },
  {
   "cell_type": "markdown",
   "id": "stretch-affiliation",
   "metadata": {},
   "source": [
    "## 10. Load the mpg dataset and fit a model that predicts highway mileage based on engine displacement. Take a look at all the regression evaluation metrics, and determine whether this model is better than the baseline model. Use the functions from your evaluate.py to help accomplish this."
   ]
  },
  {
   "cell_type": "code",
   "execution_count": 34,
   "id": "adjacent-cameroon",
   "metadata": {},
   "outputs": [
    {
     "name": "stdout",
     "output_type": "stream",
     "text": [
      "<class 'pandas.core.frame.DataFrame'>\n",
      "Int64Index: 234 entries, 1 to 234\n",
      "Data columns (total 11 columns):\n",
      " #   Column        Non-Null Count  Dtype  \n",
      "---  ------        --------------  -----  \n",
      " 0   manufacturer  234 non-null    object \n",
      " 1   model         234 non-null    object \n",
      " 2   displ         234 non-null    float64\n",
      " 3   year          234 non-null    int64  \n",
      " 4   cyl           234 non-null    int64  \n",
      " 5   trans         234 non-null    object \n",
      " 6   drv           234 non-null    object \n",
      " 7   cty           234 non-null    int64  \n",
      " 8   hwy           234 non-null    int64  \n",
      " 9   fl            234 non-null    object \n",
      " 10  class         234 non-null    object \n",
      "dtypes: float64(1), int64(4), object(6)\n",
      "memory usage: 21.9+ KB\n"
     ]
    }
   ],
   "source": [
    "mpg_df = data(\"mpg\")\n",
    "mpg_df.sample(14)\n",
    "mpg_df.info()"
   ]
  },
  {
   "cell_type": "code",
   "execution_count": 35,
   "id": "realistic-extension",
   "metadata": {},
   "outputs": [],
   "source": [
    "mpg_ols_model = ols(\"hwy ~ displ\", data=mpg_df).fit()"
   ]
  },
  {
   "cell_type": "code",
   "execution_count": 36,
   "id": "difficult-marks",
   "metadata": {},
   "outputs": [
    {
     "data": {
      "text/html": [
       "<div>\n",
       "<style scoped>\n",
       "    .dataframe tbody tr th:only-of-type {\n",
       "        vertical-align: middle;\n",
       "    }\n",
       "\n",
       "    .dataframe tbody tr th {\n",
       "        vertical-align: top;\n",
       "    }\n",
       "\n",
       "    .dataframe thead th {\n",
       "        text-align: right;\n",
       "    }\n",
       "</style>\n",
       "<table border=\"1\" class=\"dataframe\">\n",
       "  <thead>\n",
       "    <tr style=\"text-align: right;\">\n",
       "      <th></th>\n",
       "      <th>manufacturer</th>\n",
       "      <th>model</th>\n",
       "      <th>displ</th>\n",
       "      <th>year</th>\n",
       "      <th>cyl</th>\n",
       "      <th>trans</th>\n",
       "      <th>drv</th>\n",
       "      <th>cty</th>\n",
       "      <th>hwy</th>\n",
       "      <th>fl</th>\n",
       "      <th>class</th>\n",
       "      <th>yhat</th>\n",
       "    </tr>\n",
       "  </thead>\n",
       "  <tbody>\n",
       "    <tr>\n",
       "      <th>5</th>\n",
       "      <td>audi</td>\n",
       "      <td>a4</td>\n",
       "      <td>2.8</td>\n",
       "      <td>1999</td>\n",
       "      <td>6</td>\n",
       "      <td>auto(l5)</td>\n",
       "      <td>f</td>\n",
       "      <td>16</td>\n",
       "      <td>26</td>\n",
       "      <td>p</td>\n",
       "      <td>compact</td>\n",
       "      <td>25.812002</td>\n",
       "    </tr>\n",
       "    <tr>\n",
       "      <th>95</th>\n",
       "      <td>ford</td>\n",
       "      <td>mustang</td>\n",
       "      <td>4.6</td>\n",
       "      <td>1999</td>\n",
       "      <td>8</td>\n",
       "      <td>auto(l4)</td>\n",
       "      <td>r</td>\n",
       "      <td>15</td>\n",
       "      <td>21</td>\n",
       "      <td>r</td>\n",
       "      <td>subcompact</td>\n",
       "      <td>19.456943</td>\n",
       "    </tr>\n",
       "    <tr>\n",
       "      <th>111</th>\n",
       "      <td>hyundai</td>\n",
       "      <td>sonata</td>\n",
       "      <td>2.4</td>\n",
       "      <td>2008</td>\n",
       "      <td>4</td>\n",
       "      <td>auto(l4)</td>\n",
       "      <td>f</td>\n",
       "      <td>21</td>\n",
       "      <td>30</td>\n",
       "      <td>r</td>\n",
       "      <td>midsize</td>\n",
       "      <td>27.224238</td>\n",
       "    </tr>\n",
       "    <tr>\n",
       "      <th>150</th>\n",
       "      <td>nissan</td>\n",
       "      <td>maxima</td>\n",
       "      <td>3.5</td>\n",
       "      <td>2008</td>\n",
       "      <td>6</td>\n",
       "      <td>auto(av)</td>\n",
       "      <td>f</td>\n",
       "      <td>19</td>\n",
       "      <td>25</td>\n",
       "      <td>p</td>\n",
       "      <td>midsize</td>\n",
       "      <td>23.340590</td>\n",
       "    </tr>\n",
       "    <tr>\n",
       "      <th>212</th>\n",
       "      <td>volkswagen</td>\n",
       "      <td>gti</td>\n",
       "      <td>2.8</td>\n",
       "      <td>1999</td>\n",
       "      <td>6</td>\n",
       "      <td>manual(m5)</td>\n",
       "      <td>f</td>\n",
       "      <td>17</td>\n",
       "      <td>24</td>\n",
       "      <td>r</td>\n",
       "      <td>compact</td>\n",
       "      <td>25.812002</td>\n",
       "    </tr>\n",
       "    <tr>\n",
       "      <th>49</th>\n",
       "      <td>dodge</td>\n",
       "      <td>dakota pickup 4wd</td>\n",
       "      <td>3.7</td>\n",
       "      <td>2008</td>\n",
       "      <td>6</td>\n",
       "      <td>manual(m6)</td>\n",
       "      <td>4</td>\n",
       "      <td>15</td>\n",
       "      <td>19</td>\n",
       "      <td>r</td>\n",
       "      <td>pickup</td>\n",
       "      <td>22.634472</td>\n",
       "    </tr>\n",
       "    <tr>\n",
       "      <th>127</th>\n",
       "      <td>jeep</td>\n",
       "      <td>grand cherokee 4wd</td>\n",
       "      <td>4.7</td>\n",
       "      <td>2008</td>\n",
       "      <td>8</td>\n",
       "      <td>auto(l5)</td>\n",
       "      <td>4</td>\n",
       "      <td>9</td>\n",
       "      <td>12</td>\n",
       "      <td>e</td>\n",
       "      <td>suv</td>\n",
       "      <td>19.103884</td>\n",
       "    </tr>\n",
       "    <tr>\n",
       "      <th>69</th>\n",
       "      <td>dodge</td>\n",
       "      <td>ram 1500 pickup 4wd</td>\n",
       "      <td>4.7</td>\n",
       "      <td>2008</td>\n",
       "      <td>8</td>\n",
       "      <td>manual(m6)</td>\n",
       "      <td>4</td>\n",
       "      <td>12</td>\n",
       "      <td>16</td>\n",
       "      <td>r</td>\n",
       "      <td>pickup</td>\n",
       "      <td>19.103884</td>\n",
       "    </tr>\n",
       "    <tr>\n",
       "      <th>191</th>\n",
       "      <td>toyota</td>\n",
       "      <td>camry solara</td>\n",
       "      <td>3.0</td>\n",
       "      <td>1999</td>\n",
       "      <td>6</td>\n",
       "      <td>auto(l4)</td>\n",
       "      <td>f</td>\n",
       "      <td>18</td>\n",
       "      <td>26</td>\n",
       "      <td>r</td>\n",
       "      <td>compact</td>\n",
       "      <td>25.105885</td>\n",
       "    </tr>\n",
       "    <tr>\n",
       "      <th>4</th>\n",
       "      <td>audi</td>\n",
       "      <td>a4</td>\n",
       "      <td>2.0</td>\n",
       "      <td>2008</td>\n",
       "      <td>4</td>\n",
       "      <td>auto(av)</td>\n",
       "      <td>f</td>\n",
       "      <td>21</td>\n",
       "      <td>30</td>\n",
       "      <td>p</td>\n",
       "      <td>compact</td>\n",
       "      <td>28.636473</td>\n",
       "    </tr>\n",
       "    <tr>\n",
       "      <th>99</th>\n",
       "      <td>ford</td>\n",
       "      <td>mustang</td>\n",
       "      <td>5.4</td>\n",
       "      <td>2008</td>\n",
       "      <td>8</td>\n",
       "      <td>manual(m6)</td>\n",
       "      <td>r</td>\n",
       "      <td>14</td>\n",
       "      <td>20</td>\n",
       "      <td>p</td>\n",
       "      <td>subcompact</td>\n",
       "      <td>16.632471</td>\n",
       "    </tr>\n",
       "    <tr>\n",
       "      <th>232</th>\n",
       "      <td>volkswagen</td>\n",
       "      <td>passat</td>\n",
       "      <td>2.8</td>\n",
       "      <td>1999</td>\n",
       "      <td>6</td>\n",
       "      <td>auto(l5)</td>\n",
       "      <td>f</td>\n",
       "      <td>16</td>\n",
       "      <td>26</td>\n",
       "      <td>p</td>\n",
       "      <td>midsize</td>\n",
       "      <td>25.812002</td>\n",
       "    </tr>\n",
       "    <tr>\n",
       "      <th>63</th>\n",
       "      <td>dodge</td>\n",
       "      <td>durango 4wd</td>\n",
       "      <td>5.7</td>\n",
       "      <td>2008</td>\n",
       "      <td>8</td>\n",
       "      <td>auto(l5)</td>\n",
       "      <td>4</td>\n",
       "      <td>13</td>\n",
       "      <td>18</td>\n",
       "      <td>r</td>\n",
       "      <td>suv</td>\n",
       "      <td>15.573295</td>\n",
       "    </tr>\n",
       "    <tr>\n",
       "      <th>6</th>\n",
       "      <td>audi</td>\n",
       "      <td>a4</td>\n",
       "      <td>2.8</td>\n",
       "      <td>1999</td>\n",
       "      <td>6</td>\n",
       "      <td>manual(m5)</td>\n",
       "      <td>f</td>\n",
       "      <td>18</td>\n",
       "      <td>26</td>\n",
       "      <td>p</td>\n",
       "      <td>compact</td>\n",
       "      <td>25.812002</td>\n",
       "    </tr>\n",
       "  </tbody>\n",
       "</table>\n",
       "</div>"
      ],
      "text/plain": [
       "    manufacturer                model  displ  year  cyl       trans drv  cty  \\\n",
       "5           audi                   a4    2.8  1999    6    auto(l5)   f   16   \n",
       "95          ford              mustang    4.6  1999    8    auto(l4)   r   15   \n",
       "111      hyundai               sonata    2.4  2008    4    auto(l4)   f   21   \n",
       "150       nissan               maxima    3.5  2008    6    auto(av)   f   19   \n",
       "212   volkswagen                  gti    2.8  1999    6  manual(m5)   f   17   \n",
       "49         dodge    dakota pickup 4wd    3.7  2008    6  manual(m6)   4   15   \n",
       "127         jeep   grand cherokee 4wd    4.7  2008    8    auto(l5)   4    9   \n",
       "69         dodge  ram 1500 pickup 4wd    4.7  2008    8  manual(m6)   4   12   \n",
       "191       toyota         camry solara    3.0  1999    6    auto(l4)   f   18   \n",
       "4           audi                   a4    2.0  2008    4    auto(av)   f   21   \n",
       "99          ford              mustang    5.4  2008    8  manual(m6)   r   14   \n",
       "232   volkswagen               passat    2.8  1999    6    auto(l5)   f   16   \n",
       "63         dodge          durango 4wd    5.7  2008    8    auto(l5)   4   13   \n",
       "6           audi                   a4    2.8  1999    6  manual(m5)   f   18   \n",
       "\n",
       "     hwy fl       class       yhat  \n",
       "5     26  p     compact  25.812002  \n",
       "95    21  r  subcompact  19.456943  \n",
       "111   30  r     midsize  27.224238  \n",
       "150   25  p     midsize  23.340590  \n",
       "212   24  r     compact  25.812002  \n",
       "49    19  r      pickup  22.634472  \n",
       "127   12  e         suv  19.103884  \n",
       "69    16  r      pickup  19.103884  \n",
       "191   26  r     compact  25.105885  \n",
       "4     30  p     compact  28.636473  \n",
       "99    20  p  subcompact  16.632471  \n",
       "232   26  p     midsize  25.812002  \n",
       "63    18  r         suv  15.573295  \n",
       "6     26  p     compact  25.812002  "
      ]
     },
     "execution_count": 36,
     "metadata": {},
     "output_type": "execute_result"
    }
   ],
   "source": [
    "mpg_df['yhat'] = mpg_ols_model.predict(mpg_df['displ'])\n",
    "mpg_df.sample(14)"
   ]
  },
  {
   "cell_type": "code",
   "execution_count": 37,
   "id": "black-renaissance",
   "metadata": {},
   "outputs": [
    {
     "data": {
      "image/png": "[encoded data removed]",
      "text/plain": [
       "<Figure size 432x288 with 1 Axes>"
      ]
     },
     "metadata": {
      "needs_background": "light"
     },
     "output_type": "display_data"
    }
   ],
   "source": [
    "eval_util.plot_residuals(mpg_df.hwy, mpg_df.yhat)"
   ]
  },
  {
   "cell_type": "code",
   "execution_count": 38,
   "id": "asian-olive",
   "metadata": {},
   "outputs": [
    {
     "data": {
      "image/png": "[encoded data removed]",
      "text/plain": [
       "<Figure size 432x288 with 1 Axes>"
      ]
     },
     "metadata": {
      "needs_background": "light"
     },
     "output_type": "display_data"
    }
   ],
   "source": [
    "eval_util.plot_residuals_against_x(mpg_df.displ, mpg_df.hwy, mpg_df.yhat, mpg_df)"
   ]
  },
  {
   "cell_type": "code",
   "execution_count": 39,
   "id": "behind-margin",
   "metadata": {},
   "outputs": [
    {
     "data": {
      "text/plain": [
       "(3413.829008995466,\n",
       " 4847.833384166932,\n",
       " 8261.662393162398,\n",
       " 14.589012858954984,\n",
       " 3.819556631201452)"
      ]
     },
     "execution_count": 39,
     "metadata": {},
     "output_type": "execute_result"
    }
   ],
   "source": [
    "eval_util.regression_errors(mpg_df.hwy, mpg_df.yhat)"
   ]
  },
  {
   "cell_type": "code",
   "execution_count": 40,
   "id": "duplicate-occasion",
   "metadata": {},
   "outputs": [
    {
     "data": {
      "text/plain": [
       "(8261.66239316239, 35.30624954342902, 5.941906221359356)"
      ]
     },
     "execution_count": 40,
     "metadata": {},
     "output_type": "execute_result"
    }
   ],
   "source": [
    "eval_util.baseline_mean_errors(mpg_df.hwy)"
   ]
  },
  {
   "cell_type": "code",
   "execution_count": 41,
   "id": "specified-spectrum",
   "metadata": {},
   "outputs": [
    {
     "name": "stdout",
     "output_type": "stream",
     "text": [
      "The model performs better than the baseline with an SSE2 value of 3413.829008995466 and delta of -4847.833384166925\n"
     ]
    },
    {
     "data": {
      "text/plain": [
       "True"
      ]
     },
     "execution_count": 41,
     "metadata": {},
     "output_type": "execute_result"
    }
   ],
   "source": [
    "eval_util.better_than_baseline(mpg_df.hwy, mpg_df.yhat)"
   ]
  },
  {
   "cell_type": "code",
   "execution_count": 42,
   "id": "sunset-interval",
   "metadata": {},
   "outputs": [
    {
     "name": "stdout",
     "output_type": "stream",
     "text": [
      "variance:  0.5867866723989039, p:  2.0389744555910457e-46, a: 0.05,  signficant:  True\n"
     ]
    },
    {
     "data": {
      "text/plain": [
       "(0.5867866723989039, 2.0389744555910457e-46, True)"
      ]
     },
     "execution_count": 42,
     "metadata": {},
     "output_type": "execute_result"
    }
   ],
   "source": [
    "eval_util.model_signficance(mpg_ols_model)"
   ]
  },
  {
   "cell_type": "code",
   "execution_count": null,
   "id": "inappropriate-mobile",
   "metadata": {},
   "outputs": [],
   "source": []
  }
 ],
 "metadata": {
  "kernelspec": {
   "display_name": "Python 3",
   "language": "python",
   "name": "python3"
  },
  "language_info": {
   "codemirror_mode": {
    "name": "ipython",
    "version": 3
   },
   "file_extension": ".py",
   "mimetype": "text/x-python",
   "name": "python",
   "nbconvert_exporter": "python",
   "pygments_lexer": "ipython3",
   "version": "3.8.5"
  }
 },
 "nbformat": 4,
 "nbformat_minor": 5
}
