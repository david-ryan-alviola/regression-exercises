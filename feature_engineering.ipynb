{
 "cells": [
  {
   "cell_type": "code",
   "execution_count": 2,
   "id": "concerned-sellers",
   "metadata": {},
   "outputs": [],
   "source": [
    "import pandas as pd\n",
    "import numpy as np\n",
    "import env\n",
    "\n",
    "from pydataset import data\n",
    "from utilities import split_dataframe, generate_xy_splits\n",
    "from sklearn.linear_model import LinearRegression\n",
    "from sklearn.feature_selection import SelectKBest, f_regression, RFE"
   ]
  },
  {
   "cell_type": "markdown",
   "id": "median-paint",
   "metadata": {},
   "source": [
    "## 1. Load the tips dataset."
   ]
  },
  {
   "cell_type": "code",
   "execution_count": 6,
   "id": "convenient-shelf",
   "metadata": {},
   "outputs": [
    {
     "data": {
      "text/html": [
       "<div>\n",
       "<style scoped>\n",
       "    .dataframe tbody tr th:only-of-type {\n",
       "        vertical-align: middle;\n",
       "    }\n",
       "\n",
       "    .dataframe tbody tr th {\n",
       "        vertical-align: top;\n",
       "    }\n",
       "\n",
       "    .dataframe thead th {\n",
       "        text-align: right;\n",
       "    }\n",
       "</style>\n",
       "<table border=\"1\" class=\"dataframe\">\n",
       "  <thead>\n",
       "    <tr style=\"text-align: right;\">\n",
       "      <th></th>\n",
       "      <th>total_bill</th>\n",
       "      <th>tip</th>\n",
       "      <th>sex</th>\n",
       "      <th>smoker</th>\n",
       "      <th>day</th>\n",
       "      <th>time</th>\n",
       "      <th>size</th>\n",
       "    </tr>\n",
       "  </thead>\n",
       "  <tbody>\n",
       "    <tr>\n",
       "      <th>231</th>\n",
       "      <td>24.01</td>\n",
       "      <td>2.00</td>\n",
       "      <td>Male</td>\n",
       "      <td>Yes</td>\n",
       "      <td>Sat</td>\n",
       "      <td>Dinner</td>\n",
       "      <td>4</td>\n",
       "    </tr>\n",
       "    <tr>\n",
       "      <th>127</th>\n",
       "      <td>8.52</td>\n",
       "      <td>1.48</td>\n",
       "      <td>Male</td>\n",
       "      <td>No</td>\n",
       "      <td>Thur</td>\n",
       "      <td>Lunch</td>\n",
       "      <td>2</td>\n",
       "    </tr>\n",
       "    <tr>\n",
       "      <th>82</th>\n",
       "      <td>16.66</td>\n",
       "      <td>3.40</td>\n",
       "      <td>Male</td>\n",
       "      <td>No</td>\n",
       "      <td>Thur</td>\n",
       "      <td>Lunch</td>\n",
       "      <td>2</td>\n",
       "    </tr>\n",
       "    <tr>\n",
       "      <th>80</th>\n",
       "      <td>17.29</td>\n",
       "      <td>2.71</td>\n",
       "      <td>Male</td>\n",
       "      <td>No</td>\n",
       "      <td>Thur</td>\n",
       "      <td>Lunch</td>\n",
       "      <td>2</td>\n",
       "    </tr>\n",
       "    <tr>\n",
       "      <th>149</th>\n",
       "      <td>9.78</td>\n",
       "      <td>1.73</td>\n",
       "      <td>Male</td>\n",
       "      <td>No</td>\n",
       "      <td>Thur</td>\n",
       "      <td>Lunch</td>\n",
       "      <td>2</td>\n",
       "    </tr>\n",
       "    <tr>\n",
       "      <th>241</th>\n",
       "      <td>27.18</td>\n",
       "      <td>2.00</td>\n",
       "      <td>Female</td>\n",
       "      <td>Yes</td>\n",
       "      <td>Sat</td>\n",
       "      <td>Dinner</td>\n",
       "      <td>2</td>\n",
       "    </tr>\n",
       "    <tr>\n",
       "      <th>120</th>\n",
       "      <td>24.08</td>\n",
       "      <td>2.92</td>\n",
       "      <td>Female</td>\n",
       "      <td>No</td>\n",
       "      <td>Thur</td>\n",
       "      <td>Lunch</td>\n",
       "      <td>4</td>\n",
       "    </tr>\n",
       "    <tr>\n",
       "      <th>238</th>\n",
       "      <td>32.83</td>\n",
       "      <td>1.17</td>\n",
       "      <td>Male</td>\n",
       "      <td>Yes</td>\n",
       "      <td>Sat</td>\n",
       "      <td>Dinner</td>\n",
       "      <td>2</td>\n",
       "    </tr>\n",
       "    <tr>\n",
       "      <th>171</th>\n",
       "      <td>50.81</td>\n",
       "      <td>10.00</td>\n",
       "      <td>Male</td>\n",
       "      <td>Yes</td>\n",
       "      <td>Sat</td>\n",
       "      <td>Dinner</td>\n",
       "      <td>3</td>\n",
       "    </tr>\n",
       "    <tr>\n",
       "      <th>35</th>\n",
       "      <td>17.78</td>\n",
       "      <td>3.27</td>\n",
       "      <td>Male</td>\n",
       "      <td>No</td>\n",
       "      <td>Sat</td>\n",
       "      <td>Dinner</td>\n",
       "      <td>2</td>\n",
       "    </tr>\n",
       "    <tr>\n",
       "      <th>25</th>\n",
       "      <td>19.82</td>\n",
       "      <td>3.18</td>\n",
       "      <td>Male</td>\n",
       "      <td>No</td>\n",
       "      <td>Sat</td>\n",
       "      <td>Dinner</td>\n",
       "      <td>2</td>\n",
       "    </tr>\n",
       "    <tr>\n",
       "      <th>74</th>\n",
       "      <td>25.28</td>\n",
       "      <td>5.00</td>\n",
       "      <td>Female</td>\n",
       "      <td>Yes</td>\n",
       "      <td>Sat</td>\n",
       "      <td>Dinner</td>\n",
       "      <td>2</td>\n",
       "    </tr>\n",
       "    <tr>\n",
       "      <th>160</th>\n",
       "      <td>16.49</td>\n",
       "      <td>2.00</td>\n",
       "      <td>Male</td>\n",
       "      <td>No</td>\n",
       "      <td>Sun</td>\n",
       "      <td>Dinner</td>\n",
       "      <td>4</td>\n",
       "    </tr>\n",
       "    <tr>\n",
       "      <th>154</th>\n",
       "      <td>24.55</td>\n",
       "      <td>2.00</td>\n",
       "      <td>Male</td>\n",
       "      <td>No</td>\n",
       "      <td>Sun</td>\n",
       "      <td>Dinner</td>\n",
       "      <td>4</td>\n",
       "    </tr>\n",
       "  </tbody>\n",
       "</table>\n",
       "</div>"
      ],
      "text/plain": [
       "     total_bill    tip     sex smoker   day    time  size\n",
       "231       24.01   2.00    Male    Yes   Sat  Dinner     4\n",
       "127        8.52   1.48    Male     No  Thur   Lunch     2\n",
       "82        16.66   3.40    Male     No  Thur   Lunch     2\n",
       "80        17.29   2.71    Male     No  Thur   Lunch     2\n",
       "149        9.78   1.73    Male     No  Thur   Lunch     2\n",
       "241       27.18   2.00  Female    Yes   Sat  Dinner     2\n",
       "120       24.08   2.92  Female     No  Thur   Lunch     4\n",
       "238       32.83   1.17    Male    Yes   Sat  Dinner     2\n",
       "171       50.81  10.00    Male    Yes   Sat  Dinner     3\n",
       "35        17.78   3.27    Male     No   Sat  Dinner     2\n",
       "25        19.82   3.18    Male     No   Sat  Dinner     2\n",
       "74        25.28   5.00  Female    Yes   Sat  Dinner     2\n",
       "160       16.49   2.00    Male     No   Sun  Dinner     4\n",
       "154       24.55   2.00    Male     No   Sun  Dinner     4"
      ]
     },
     "execution_count": 6,
     "metadata": {},
     "output_type": "execute_result"
    }
   ],
   "source": [
    "tips_df = data(\"tips\")\n",
    "tips_df.sample(14)"
   ]
  },
  {
   "cell_type": "markdown",
   "id": "common-argentina",
   "metadata": {},
   "source": [
    "* Create a column named tip_percentage. This should be the tip amount divided by the total bill."
   ]
  },
  {
   "cell_type": "code",
   "execution_count": 7,
   "id": "extended-appreciation",
   "metadata": {},
   "outputs": [
    {
     "data": {
      "text/html": [
       "<div>\n",
       "<style scoped>\n",
       "    .dataframe tbody tr th:only-of-type {\n",
       "        vertical-align: middle;\n",
       "    }\n",
       "\n",
       "    .dataframe tbody tr th {\n",
       "        vertical-align: top;\n",
       "    }\n",
       "\n",
       "    .dataframe thead th {\n",
       "        text-align: right;\n",
       "    }\n",
       "</style>\n",
       "<table border=\"1\" class=\"dataframe\">\n",
       "  <thead>\n",
       "    <tr style=\"text-align: right;\">\n",
       "      <th></th>\n",
       "      <th>total_bill</th>\n",
       "      <th>tip</th>\n",
       "      <th>sex</th>\n",
       "      <th>smoker</th>\n",
       "      <th>day</th>\n",
       "      <th>time</th>\n",
       "      <th>size</th>\n",
       "      <th>tip_percentage</th>\n",
       "    </tr>\n",
       "  </thead>\n",
       "  <tbody>\n",
       "    <tr>\n",
       "      <th>70</th>\n",
       "      <td>15.01</td>\n",
       "      <td>2.09</td>\n",
       "      <td>Male</td>\n",
       "      <td>Yes</td>\n",
       "      <td>Sat</td>\n",
       "      <td>Dinner</td>\n",
       "      <td>2</td>\n",
       "      <td>0.139241</td>\n",
       "    </tr>\n",
       "    <tr>\n",
       "      <th>243</th>\n",
       "      <td>17.82</td>\n",
       "      <td>1.75</td>\n",
       "      <td>Male</td>\n",
       "      <td>No</td>\n",
       "      <td>Sat</td>\n",
       "      <td>Dinner</td>\n",
       "      <td>2</td>\n",
       "      <td>0.098204</td>\n",
       "    </tr>\n",
       "    <tr>\n",
       "      <th>202</th>\n",
       "      <td>12.74</td>\n",
       "      <td>2.01</td>\n",
       "      <td>Female</td>\n",
       "      <td>Yes</td>\n",
       "      <td>Thur</td>\n",
       "      <td>Lunch</td>\n",
       "      <td>2</td>\n",
       "      <td>0.157771</td>\n",
       "    </tr>\n",
       "    <tr>\n",
       "      <th>201</th>\n",
       "      <td>18.71</td>\n",
       "      <td>4.00</td>\n",
       "      <td>Male</td>\n",
       "      <td>Yes</td>\n",
       "      <td>Thur</td>\n",
       "      <td>Lunch</td>\n",
       "      <td>3</td>\n",
       "      <td>0.213789</td>\n",
       "    </tr>\n",
       "    <tr>\n",
       "      <th>220</th>\n",
       "      <td>30.14</td>\n",
       "      <td>3.09</td>\n",
       "      <td>Female</td>\n",
       "      <td>Yes</td>\n",
       "      <td>Sat</td>\n",
       "      <td>Dinner</td>\n",
       "      <td>4</td>\n",
       "      <td>0.102522</td>\n",
       "    </tr>\n",
       "  </tbody>\n",
       "</table>\n",
       "</div>"
      ],
      "text/plain": [
       "     total_bill   tip     sex smoker   day    time  size  tip_percentage\n",
       "70        15.01  2.09    Male    Yes   Sat  Dinner     2        0.139241\n",
       "243       17.82  1.75    Male     No   Sat  Dinner     2        0.098204\n",
       "202       12.74  2.01  Female    Yes  Thur   Lunch     2        0.157771\n",
       "201       18.71  4.00    Male    Yes  Thur   Lunch     3        0.213789\n",
       "220       30.14  3.09  Female    Yes   Sat  Dinner     4        0.102522"
      ]
     },
     "execution_count": 7,
     "metadata": {},
     "output_type": "execute_result"
    }
   ],
   "source": [
    "tips_df['tip_percentage'] = tips_df.tip / tips_df.total_bill\n",
    "tips_df.sample(5)"
   ]
  },
  {
   "cell_type": "markdown",
   "id": "determined-pierce",
   "metadata": {},
   "source": [
    "* Create a column named price_per_person. This should be the total bill divided by the party size."
   ]
  },
  {
   "cell_type": "code",
   "execution_count": 8,
   "id": "native-yacht",
   "metadata": {},
   "outputs": [
    {
     "data": {
      "text/html": [
       "<div>\n",
       "<style scoped>\n",
       "    .dataframe tbody tr th:only-of-type {\n",
       "        vertical-align: middle;\n",
       "    }\n",
       "\n",
       "    .dataframe tbody tr th {\n",
       "        vertical-align: top;\n",
       "    }\n",
       "\n",
       "    .dataframe thead th {\n",
       "        text-align: right;\n",
       "    }\n",
       "</style>\n",
       "<table border=\"1\" class=\"dataframe\">\n",
       "  <thead>\n",
       "    <tr style=\"text-align: right;\">\n",
       "      <th></th>\n",
       "      <th>total_bill</th>\n",
       "      <th>tip</th>\n",
       "      <th>sex</th>\n",
       "      <th>smoker</th>\n",
       "      <th>day</th>\n",
       "      <th>time</th>\n",
       "      <th>size</th>\n",
       "      <th>tip_percentage</th>\n",
       "      <th>price_per_person</th>\n",
       "    </tr>\n",
       "  </thead>\n",
       "  <tbody>\n",
       "    <tr>\n",
       "      <th>128</th>\n",
       "      <td>14.52</td>\n",
       "      <td>2.00</td>\n",
       "      <td>Female</td>\n",
       "      <td>No</td>\n",
       "      <td>Thur</td>\n",
       "      <td>Lunch</td>\n",
       "      <td>2</td>\n",
       "      <td>0.137741</td>\n",
       "      <td>7.2600</td>\n",
       "    </tr>\n",
       "    <tr>\n",
       "      <th>124</th>\n",
       "      <td>15.95</td>\n",
       "      <td>2.00</td>\n",
       "      <td>Male</td>\n",
       "      <td>No</td>\n",
       "      <td>Thur</td>\n",
       "      <td>Lunch</td>\n",
       "      <td>2</td>\n",
       "      <td>0.125392</td>\n",
       "      <td>7.9750</td>\n",
       "    </tr>\n",
       "    <tr>\n",
       "      <th>225</th>\n",
       "      <td>13.42</td>\n",
       "      <td>1.58</td>\n",
       "      <td>Male</td>\n",
       "      <td>Yes</td>\n",
       "      <td>Fri</td>\n",
       "      <td>Lunch</td>\n",
       "      <td>2</td>\n",
       "      <td>0.117735</td>\n",
       "      <td>6.7100</td>\n",
       "    </tr>\n",
       "    <tr>\n",
       "      <th>229</th>\n",
       "      <td>13.28</td>\n",
       "      <td>2.72</td>\n",
       "      <td>Male</td>\n",
       "      <td>No</td>\n",
       "      <td>Sat</td>\n",
       "      <td>Dinner</td>\n",
       "      <td>2</td>\n",
       "      <td>0.204819</td>\n",
       "      <td>6.6400</td>\n",
       "    </tr>\n",
       "    <tr>\n",
       "      <th>117</th>\n",
       "      <td>29.93</td>\n",
       "      <td>5.07</td>\n",
       "      <td>Male</td>\n",
       "      <td>No</td>\n",
       "      <td>Sun</td>\n",
       "      <td>Dinner</td>\n",
       "      <td>4</td>\n",
       "      <td>0.169395</td>\n",
       "      <td>7.4825</td>\n",
       "    </tr>\n",
       "  </tbody>\n",
       "</table>\n",
       "</div>"
      ],
      "text/plain": [
       "     total_bill   tip     sex smoker   day    time  size  tip_percentage  \\\n",
       "128       14.52  2.00  Female     No  Thur   Lunch     2        0.137741   \n",
       "124       15.95  2.00    Male     No  Thur   Lunch     2        0.125392   \n",
       "225       13.42  1.58    Male    Yes   Fri   Lunch     2        0.117735   \n",
       "229       13.28  2.72    Male     No   Sat  Dinner     2        0.204819   \n",
       "117       29.93  5.07    Male     No   Sun  Dinner     4        0.169395   \n",
       "\n",
       "     price_per_person  \n",
       "128            7.2600  \n",
       "124            7.9750  \n",
       "225            6.7100  \n",
       "229            6.6400  \n",
       "117            7.4825  "
      ]
     },
     "execution_count": 8,
     "metadata": {},
     "output_type": "execute_result"
    }
   ],
   "source": [
    "tips_df['price_per_person'] = tips_df.total_bill / tips_df['size']\n",
    "tips_df.sample(5)"
   ]
  },
  {
   "cell_type": "markdown",
   "id": "technical-complex",
   "metadata": {},
   "source": [
    "* Before using any of the methods discussed in the lesson, which features do you think would be most important for predicting the tip amount? The tip percentage?"
   ]
  },
  {
   "cell_type": "markdown",
   "id": "imperial-judge",
   "metadata": {},
   "source": [
    "I think total_bill is the most important feature for predicting tip amount. I think sex is the most important feature for predicting tip percentage."
   ]
  },
  {
   "cell_type": "markdown",
   "id": "several-organizer",
   "metadata": {},
   "source": [
    "* Use all the other numeric features to predict tip amount. Use select k best and recursive feature elimination to select the top 2 features. What are they?"
   ]
  },
  {
   "cell_type": "code",
   "execution_count": 9,
   "id": "precise-reader",
   "metadata": {},
   "outputs": [
    {
     "name": "stdout",
     "output_type": "stream",
     "text": [
      "<class 'pandas.core.frame.DataFrame'>\n",
      "Int64Index: 244 entries, 1 to 244\n",
      "Data columns (total 9 columns):\n",
      " #   Column            Non-Null Count  Dtype  \n",
      "---  ------            --------------  -----  \n",
      " 0   total_bill        244 non-null    float64\n",
      " 1   tip               244 non-null    float64\n",
      " 2   sex               244 non-null    object \n",
      " 3   smoker            244 non-null    object \n",
      " 4   day               244 non-null    object \n",
      " 5   time              244 non-null    object \n",
      " 6   size              244 non-null    int64  \n",
      " 7   tip_percentage    244 non-null    float64\n",
      " 8   price_per_person  244 non-null    float64\n",
      "dtypes: float64(4), int64(1), object(4)\n",
      "memory usage: 19.1+ KB\n"
     ]
    }
   ],
   "source": [
    "tips_df.info()"
   ]
  },
  {
   "cell_type": "code",
   "execution_count": 10,
   "id": "difficult-desire",
   "metadata": {},
   "outputs": [
    {
     "data": {
      "text/html": [
       "<div>\n",
       "<style scoped>\n",
       "    .dataframe tbody tr th:only-of-type {\n",
       "        vertical-align: middle;\n",
       "    }\n",
       "\n",
       "    .dataframe tbody tr th {\n",
       "        vertical-align: top;\n",
       "    }\n",
       "\n",
       "    .dataframe thead th {\n",
       "        text-align: right;\n",
       "    }\n",
       "</style>\n",
       "<table border=\"1\" class=\"dataframe\">\n",
       "  <thead>\n",
       "    <tr style=\"text-align: right;\">\n",
       "      <th></th>\n",
       "      <th>total_bill</th>\n",
       "      <th>tip</th>\n",
       "      <th>size</th>\n",
       "      <th>tip_percentage</th>\n",
       "      <th>price_per_person</th>\n",
       "    </tr>\n",
       "  </thead>\n",
       "  <tbody>\n",
       "    <tr>\n",
       "      <th>219</th>\n",
       "      <td>7.74</td>\n",
       "      <td>1.44</td>\n",
       "      <td>2</td>\n",
       "      <td>0.186047</td>\n",
       "      <td>3.8700</td>\n",
       "    </tr>\n",
       "    <tr>\n",
       "      <th>188</th>\n",
       "      <td>30.46</td>\n",
       "      <td>2.00</td>\n",
       "      <td>5</td>\n",
       "      <td>0.065660</td>\n",
       "      <td>6.0920</td>\n",
       "    </tr>\n",
       "    <tr>\n",
       "      <th>156</th>\n",
       "      <td>29.85</td>\n",
       "      <td>5.14</td>\n",
       "      <td>5</td>\n",
       "      <td>0.172194</td>\n",
       "      <td>5.9700</td>\n",
       "    </tr>\n",
       "    <tr>\n",
       "      <th>96</th>\n",
       "      <td>40.17</td>\n",
       "      <td>4.73</td>\n",
       "      <td>4</td>\n",
       "      <td>0.117750</td>\n",
       "      <td>10.0425</td>\n",
       "    </tr>\n",
       "    <tr>\n",
       "      <th>60</th>\n",
       "      <td>48.27</td>\n",
       "      <td>6.73</td>\n",
       "      <td>4</td>\n",
       "      <td>0.139424</td>\n",
       "      <td>12.0675</td>\n",
       "    </tr>\n",
       "  </tbody>\n",
       "</table>\n",
       "</div>"
      ],
      "text/plain": [
       "     total_bill   tip  size  tip_percentage  price_per_person\n",
       "219        7.74  1.44     2        0.186047            3.8700\n",
       "188       30.46  2.00     5        0.065660            6.0920\n",
       "156       29.85  5.14     5        0.172194            5.9700\n",
       "96        40.17  4.73     4        0.117750           10.0425\n",
       "60        48.27  6.73     4        0.139424           12.0675"
      ]
     },
     "execution_count": 10,
     "metadata": {},
     "output_type": "execute_result"
    }
   ],
   "source": [
    "numeric_features_df = tips_df[['total_bill', 'tip', 'size', 'tip_percentage', 'price_per_person']]\n",
    "numeric_features_df.sample(5)"
   ]
  },
  {
   "cell_type": "code",
   "execution_count": 13,
   "id": "packed-uruguay",
   "metadata": {},
   "outputs": [],
   "source": [
    "train, validate, test = split_dataframe(numeric_features_df)\n",
    "splits = generate_xy_splits(train, validate, test, 'tip', [])"
   ]
  },
  {
   "cell_type": "code",
   "execution_count": 14,
   "id": "aquatic-trade",
   "metadata": {},
   "outputs": [
    {
     "data": {
      "text/plain": [
       "['total_bill', 'size']"
      ]
     },
     "execution_count": 14,
     "metadata": {},
     "output_type": "execute_result"
    }
   ],
   "source": [
    "# Select K best\n",
    "f_selector = SelectKBest(f_regression, k=2)\n",
    "f_selector.fit(splits['X_train'], splits['y_train'])\n",
    "\n",
    "feature_mask = f_selector.get_support()\n",
    "\n",
    "f_feature = splits['X_train'].iloc[:, feature_mask].columns.tolist()\n",
    "f_feature"
   ]
  },
  {
   "cell_type": "code",
   "execution_count": 15,
   "id": "tracked-afghanistan",
   "metadata": {},
   "outputs": [
    {
     "data": {
      "text/plain": [
       "['size', 'tip_percentage']"
      ]
     },
     "execution_count": 15,
     "metadata": {},
     "output_type": "execute_result"
    }
   ],
   "source": [
    "# RFE\n",
    "lm = LinearRegression()\n",
    "rfe = RFE(lm, 2)\n",
    "rfe.fit(splits['X_train'], splits['y_train'])\n",
    "\n",
    "rfe_feature_mask = rfe.support_\n",
    "\n",
    "rfe_feature = splits['X_train'].iloc[:, rfe_feature_mask].columns.tolist()\n",
    "rfe_feature"
   ]
  },
  {
   "cell_type": "markdown",
   "id": "thorough-classic",
   "metadata": {},
   "source": [
    "* Use all the other numeric features to predict tip percentage. Use select k best and recursive feature elimination to select the top 2 features. What are they?"
   ]
  },
  {
   "cell_type": "code",
   "execution_count": 18,
   "id": "vocational-inquiry",
   "metadata": {},
   "outputs": [],
   "source": [
    "tip_percent_splits = generate_xy_splits(train, validate, test, 'tip_percentage', [])"
   ]
  },
  {
   "cell_type": "code",
   "execution_count": 19,
   "id": "juvenile-apache",
   "metadata": {},
   "outputs": [
    {
     "data": {
      "text/plain": [
       "['total_bill', 'price_per_person']"
      ]
     },
     "execution_count": 19,
     "metadata": {},
     "output_type": "execute_result"
    }
   ],
   "source": [
    "# K best\n",
    "f_selector.fit(tip_percent_splits['X_train'], tip_percent_splits['y_train'])\n",
    "\n",
    "feature_mask = f_selector.get_support()\n",
    "\n",
    "f_feature = tip_percent_splits['X_train'].iloc[:, feature_mask].columns.tolist()\n",
    "f_feature"
   ]
  },
  {
   "cell_type": "code",
   "execution_count": 20,
   "id": "alert-gardening",
   "metadata": {},
   "outputs": [
    {
     "data": {
      "text/plain": [
       "['tip', 'size']"
      ]
     },
     "execution_count": 20,
     "metadata": {},
     "output_type": "execute_result"
    }
   ],
   "source": [
    "rfe.fit(tip_percent_splits['X_train'], tip_percent_splits['y_train'])\n",
    "\n",
    "rfe_feature_mask = rfe.support_\n",
    "\n",
    "rfe_feature = tip_percent_splits['X_train'].iloc[:, rfe_feature_mask].columns.tolist()\n",
    "rfe_feature"
   ]
  },
  {
   "cell_type": "markdown",
   "id": "practical-mercy",
   "metadata": {},
   "source": [
    "* Why do you think select k best and recursive feature elimination might give different answers for the top features? Does this change as you change the number of features your are selecting?"
   ]
  },
  {
   "cell_type": "markdown",
   "id": "nominated-neutral",
   "metadata": {},
   "source": [
    "The features may not be independent of each other, so as the target changes, the top two features may change as well. Also, ass you add more features, the interaction between newly added features and previous features may cause those combinations to be better predictors of the target."
   ]
  },
  {
   "cell_type": "markdown",
   "id": "dependent-dictionary",
   "metadata": {},
   "source": [
    "## 2. Write a function named select_kbest that takes in the predictors (X), the target (y), and the number of features to select (k) and returns the names of the top k selected features based on the SelectKBest class. Test your function with the tips dataset. You should see the same results as when you did the process manually."
   ]
  },
  {
   "cell_type": "code",
   "execution_count": 21,
   "id": "dress-bracket",
   "metadata": {},
   "outputs": [],
   "source": [
    "def select_kbest(predictors, targets, k):\n",
    "    f_selector = SelectKBest(f_regression, k=k)\n",
    "    f_selector.fit(predictors, targets)\n",
    "\n",
    "    feature_mask = f_selector.get_support()\n",
    "\n",
    "    return predictors.iloc[:, feature_mask].columns.tolist()"
   ]
  },
  {
   "cell_type": "code",
   "execution_count": 22,
   "id": "experienced-criticism",
   "metadata": {},
   "outputs": [
    {
     "data": {
      "text/plain": [
       "['total_bill', 'size']"
      ]
     },
     "execution_count": 22,
     "metadata": {},
     "output_type": "execute_result"
    }
   ],
   "source": [
    "select_kbest(splits['X_train'], splits['y_train'], 2)"
   ]
  },
  {
   "cell_type": "code",
   "execution_count": 23,
   "id": "permanent-short",
   "metadata": {},
   "outputs": [
    {
     "data": {
      "text/plain": [
       "['total_bill', 'price_per_person']"
      ]
     },
     "execution_count": 23,
     "metadata": {},
     "output_type": "execute_result"
    }
   ],
   "source": [
    "select_kbest(tip_percent_splits['X_train'], tip_percent_splits['y_train'], 2)"
   ]
  },
  {
   "cell_type": "markdown",
   "id": "increased-yeast",
   "metadata": {},
   "source": [
    "## 3. Write a function named rfe that takes in the predictors, the target, and the number of features to select. It should return the top k features based on the RFE class. Test your function with the tips dataset. You should see the same results as when you did the process manually."
   ]
  },
  {
   "cell_type": "code",
   "execution_count": 24,
   "id": "scenic-athens",
   "metadata": {},
   "outputs": [],
   "source": [
    "def rfe(predictors, targets, k, model_type):\n",
    "    model = model_type\n",
    "    \n",
    "    rfe = RFE(model, k)\n",
    "    rfe.fit(predictors, targets)\n",
    "\n",
    "    rfe_feature_mask = rfe.support_\n",
    "\n",
    "    return predictors.iloc[:, rfe_feature_mask].columns.tolist()"
   ]
  },
  {
   "cell_type": "code",
   "execution_count": 25,
   "id": "musical-minority",
   "metadata": {},
   "outputs": [
    {
     "data": {
      "text/plain": [
       "['size', 'tip_percentage']"
      ]
     },
     "execution_count": 25,
     "metadata": {},
     "output_type": "execute_result"
    }
   ],
   "source": [
    "rfe(splits['X_train'], splits['y_train'], 2, LinearRegression())"
   ]
  },
  {
   "cell_type": "code",
   "execution_count": 26,
   "id": "quiet-police",
   "metadata": {},
   "outputs": [
    {
     "data": {
      "text/plain": [
       "['tip', 'size']"
      ]
     },
     "execution_count": 26,
     "metadata": {},
     "output_type": "execute_result"
    }
   ],
   "source": [
    "rfe(tip_percent_splits['X_train'], tip_percent_splits['y_train'], 2, LinearRegression())"
   ]
  },
  {
   "cell_type": "markdown",
   "id": "ranking-quantum",
   "metadata": {},
   "source": [
    "## 4. Load the swiss dataset and use all the other features to predict Fertility. Find the top 3 features using both select k best and recursive feature elimination (use the functions you just built to help you out)."
   ]
  },
  {
   "cell_type": "code",
   "execution_count": 27,
   "id": "alike-message",
   "metadata": {},
   "outputs": [
    {
     "name": "stdout",
     "output_type": "stream",
     "text": [
      "<class 'pandas.core.frame.DataFrame'>\n",
      "Index: 47 entries, Courtelary to Rive Gauche\n",
      "Data columns (total 6 columns):\n",
      " #   Column            Non-Null Count  Dtype  \n",
      "---  ------            --------------  -----  \n",
      " 0   Fertility         47 non-null     float64\n",
      " 1   Agriculture       47 non-null     float64\n",
      " 2   Examination       47 non-null     int64  \n",
      " 3   Education         47 non-null     int64  \n",
      " 4   Catholic          47 non-null     float64\n",
      " 5   Infant.Mortality  47 non-null     float64\n",
      "dtypes: float64(4), int64(2)\n",
      "memory usage: 2.6+ KB\n"
     ]
    }
   ],
   "source": [
    "swiss_df = data(\"swiss\")\n",
    "swiss_df.info()"
   ]
  },
  {
   "cell_type": "code",
   "execution_count": 28,
   "id": "caring-obligation",
   "metadata": {},
   "outputs": [
    {
     "data": {
      "text/html": [
       "<div>\n",
       "<style scoped>\n",
       "    .dataframe tbody tr th:only-of-type {\n",
       "        vertical-align: middle;\n",
       "    }\n",
       "\n",
       "    .dataframe tbody tr th {\n",
       "        vertical-align: top;\n",
       "    }\n",
       "\n",
       "    .dataframe thead th {\n",
       "        text-align: right;\n",
       "    }\n",
       "</style>\n",
       "<table border=\"1\" class=\"dataframe\">\n",
       "  <thead>\n",
       "    <tr style=\"text-align: right;\">\n",
       "      <th></th>\n",
       "      <th>Fertility</th>\n",
       "      <th>Agriculture</th>\n",
       "      <th>Examination</th>\n",
       "      <th>Education</th>\n",
       "      <th>Catholic</th>\n",
       "      <th>Infant_Mortality</th>\n",
       "    </tr>\n",
       "  </thead>\n",
       "  <tbody>\n",
       "    <tr>\n",
       "      <th>Martigwy</th>\n",
       "      <td>70.5</td>\n",
       "      <td>78.2</td>\n",
       "      <td>12</td>\n",
       "      <td>6</td>\n",
       "      <td>98.96</td>\n",
       "      <td>19.4</td>\n",
       "    </tr>\n",
       "    <tr>\n",
       "      <th>Entremont</th>\n",
       "      <td>69.3</td>\n",
       "      <td>84.9</td>\n",
       "      <td>7</td>\n",
       "      <td>6</td>\n",
       "      <td>99.68</td>\n",
       "      <td>19.8</td>\n",
       "    </tr>\n",
       "    <tr>\n",
       "      <th>Lavaux</th>\n",
       "      <td>65.1</td>\n",
       "      <td>73.0</td>\n",
       "      <td>19</td>\n",
       "      <td>9</td>\n",
       "      <td>2.84</td>\n",
       "      <td>20.0</td>\n",
       "    </tr>\n",
       "    <tr>\n",
       "      <th>Monthey</th>\n",
       "      <td>79.4</td>\n",
       "      <td>64.9</td>\n",
       "      <td>7</td>\n",
       "      <td>3</td>\n",
       "      <td>98.22</td>\n",
       "      <td>20.2</td>\n",
       "    </tr>\n",
       "    <tr>\n",
       "      <th>Yverdon</th>\n",
       "      <td>65.4</td>\n",
       "      <td>49.5</td>\n",
       "      <td>15</td>\n",
       "      <td>8</td>\n",
       "      <td>6.10</td>\n",
       "      <td>22.5</td>\n",
       "    </tr>\n",
       "    <tr>\n",
       "      <th>Conthey</th>\n",
       "      <td>75.5</td>\n",
       "      <td>85.9</td>\n",
       "      <td>3</td>\n",
       "      <td>2</td>\n",
       "      <td>99.71</td>\n",
       "      <td>15.1</td>\n",
       "    </tr>\n",
       "    <tr>\n",
       "      <th>Aigle</th>\n",
       "      <td>64.1</td>\n",
       "      <td>62.0</td>\n",
       "      <td>21</td>\n",
       "      <td>12</td>\n",
       "      <td>8.52</td>\n",
       "      <td>16.5</td>\n",
       "    </tr>\n",
       "    <tr>\n",
       "      <th>Vevey</th>\n",
       "      <td>58.3</td>\n",
       "      <td>26.8</td>\n",
       "      <td>25</td>\n",
       "      <td>19</td>\n",
       "      <td>18.46</td>\n",
       "      <td>20.9</td>\n",
       "    </tr>\n",
       "    <tr>\n",
       "      <th>La Vallee</th>\n",
       "      <td>54.3</td>\n",
       "      <td>15.2</td>\n",
       "      <td>31</td>\n",
       "      <td>20</td>\n",
       "      <td>2.15</td>\n",
       "      <td>10.8</td>\n",
       "    </tr>\n",
       "    <tr>\n",
       "      <th>Courtelary</th>\n",
       "      <td>80.2</td>\n",
       "      <td>17.0</td>\n",
       "      <td>15</td>\n",
       "      <td>12</td>\n",
       "      <td>9.96</td>\n",
       "      <td>22.2</td>\n",
       "    </tr>\n",
       "    <tr>\n",
       "      <th>V. De Geneve</th>\n",
       "      <td>35.0</td>\n",
       "      <td>1.2</td>\n",
       "      <td>37</td>\n",
       "      <td>53</td>\n",
       "      <td>42.34</td>\n",
       "      <td>18.0</td>\n",
       "    </tr>\n",
       "    <tr>\n",
       "      <th>Aubonne</th>\n",
       "      <td>66.9</td>\n",
       "      <td>67.5</td>\n",
       "      <td>14</td>\n",
       "      <td>7</td>\n",
       "      <td>2.27</td>\n",
       "      <td>19.1</td>\n",
       "    </tr>\n",
       "    <tr>\n",
       "      <th>Val de Ruz</th>\n",
       "      <td>77.6</td>\n",
       "      <td>37.6</td>\n",
       "      <td>15</td>\n",
       "      <td>7</td>\n",
       "      <td>4.97</td>\n",
       "      <td>20.0</td>\n",
       "    </tr>\n",
       "    <tr>\n",
       "      <th>Neuveville</th>\n",
       "      <td>76.9</td>\n",
       "      <td>43.5</td>\n",
       "      <td>17</td>\n",
       "      <td>15</td>\n",
       "      <td>5.16</td>\n",
       "      <td>20.6</td>\n",
       "    </tr>\n",
       "  </tbody>\n",
       "</table>\n",
       "</div>"
      ],
      "text/plain": [
       "              Fertility  Agriculture  Examination  Education  Catholic  \\\n",
       "Martigwy           70.5         78.2           12          6     98.96   \n",
       "Entremont          69.3         84.9            7          6     99.68   \n",
       "Lavaux             65.1         73.0           19          9      2.84   \n",
       "Monthey            79.4         64.9            7          3     98.22   \n",
       "Yverdon            65.4         49.5           15          8      6.10   \n",
       "Conthey            75.5         85.9            3          2     99.71   \n",
       "Aigle              64.1         62.0           21         12      8.52   \n",
       "Vevey              58.3         26.8           25         19     18.46   \n",
       "La Vallee          54.3         15.2           31         20      2.15   \n",
       "Courtelary         80.2         17.0           15         12      9.96   \n",
       "V. De Geneve       35.0          1.2           37         53     42.34   \n",
       "Aubonne            66.9         67.5           14          7      2.27   \n",
       "Val de Ruz         77.6         37.6           15          7      4.97   \n",
       "Neuveville         76.9         43.5           17         15      5.16   \n",
       "\n",
       "              Infant_Mortality  \n",
       "Martigwy                  19.4  \n",
       "Entremont                 19.8  \n",
       "Lavaux                    20.0  \n",
       "Monthey                   20.2  \n",
       "Yverdon                   22.5  \n",
       "Conthey                   15.1  \n",
       "Aigle                     16.5  \n",
       "Vevey                     20.9  \n",
       "La Vallee                 10.8  \n",
       "Courtelary                22.2  \n",
       "V. De Geneve              18.0  \n",
       "Aubonne                   19.1  \n",
       "Val de Ruz                20.0  \n",
       "Neuveville                20.6  "
      ]
     },
     "execution_count": 28,
     "metadata": {},
     "output_type": "execute_result"
    }
   ],
   "source": [
    "swiss_df = swiss_df.rename(columns={'Infant.Mortality' : 'Infant_Mortality'})\n",
    "swiss_df.sample(14)"
   ]
  },
  {
   "cell_type": "code",
   "execution_count": 31,
   "id": "premier-union",
   "metadata": {},
   "outputs": [],
   "source": [
    "train, validate, test = split_dataframe(swiss_df)\n",
    "splits = generate_xy_splits(train, validate, test, target='Fertility', drop_columns=[])"
   ]
  },
  {
   "cell_type": "code",
   "execution_count": 32,
   "id": "statutory-anaheim",
   "metadata": {},
   "outputs": [
    {
     "data": {
      "text/plain": [
       "['Agriculture', 'Examination', 'Education']"
      ]
     },
     "execution_count": 32,
     "metadata": {},
     "output_type": "execute_result"
    }
   ],
   "source": [
    "select_kbest(splits['X_train'], splits['y_train'], 3)"
   ]
  },
  {
   "cell_type": "code",
   "execution_count": 33,
   "id": "possible-wings",
   "metadata": {},
   "outputs": [
    {
     "data": {
      "text/plain": [
       "['Education', 'Infant_Mortality']"
      ]
     },
     "execution_count": 33,
     "metadata": {},
     "output_type": "execute_result"
    }
   ],
   "source": [
    "rfe(splits['X_train'], splits['y_train'], 2, LinearRegression())"
   ]
  },
  {
   "cell_type": "code",
   "execution_count": null,
   "id": "prescribed-pathology",
   "metadata": {},
   "outputs": [],
   "source": []
  }
 ],
 "metadata": {
  "kernelspec": {
   "display_name": "Python 3",
   "language": "python",
   "name": "python3"
  },
  "language_info": {
   "codemirror_mode": {
    "name": "ipython",
    "version": 3
   },
   "file_extension": ".py",
   "mimetype": "text/x-python",
   "name": "python",
   "nbconvert_exporter": "python",
   "pygments_lexer": "ipython3",
   "version": "3.8.5"
  }
 },
 "nbformat": 4,
 "nbformat_minor": 5
}
